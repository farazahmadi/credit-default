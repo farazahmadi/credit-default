{
 "cells": [
  {
   "cell_type": "code",
   "execution_count": 1,
   "id": "bb06d892-cc83-49b9-884e-4a1f9b3be6e1",
   "metadata": {},
   "outputs": [],
   "source": [
    "import numpy as np\n",
    "import pandas as pd\n",
    "import seaborn as sns\n",
    "import matplotlib.pyplot as plt"
   ]
  },
  {
   "cell_type": "code",
   "execution_count": 2,
   "id": "6aed57b2-c1b5-46c6-b53d-37295ffda2bc",
   "metadata": {},
   "outputs": [],
   "source": [
    "import warnings\n",
    "warnings.filterwarnings('ignore')"
   ]
  },
  {
   "cell_type": "markdown",
   "id": "9b6b550a-24b1-43c3-a12b-c7c9ef4d4ad2",
   "metadata": {
    "tags": []
   },
   "source": [
    "# Reading the data"
   ]
  },
  {
   "cell_type": "markdown",
   "id": "a303d9fe",
   "metadata": {},
   "source": [
    "This credit card data is very similar to that of UCI data repository. It can also be found in the Kaggle website [here](https://www.kaggle.com/uciml/default-of-credit-card-clients-dataset)"
   ]
  },
  {
   "cell_type": "code",
   "execution_count": 3,
   "id": "ec8d3c60-e874-4344-a438-72b131f18f4a",
   "metadata": {},
   "outputs": [
    {
     "data": {
      "text/html": [
       "<div>\n",
       "<style scoped>\n",
       "    .dataframe tbody tr th:only-of-type {\n",
       "        vertical-align: middle;\n",
       "    }\n",
       "\n",
       "    .dataframe tbody tr th {\n",
       "        vertical-align: top;\n",
       "    }\n",
       "\n",
       "    .dataframe thead th {\n",
       "        text-align: right;\n",
       "    }\n",
       "</style>\n",
       "<table border=\"1\" class=\"dataframe\">\n",
       "  <thead>\n",
       "    <tr style=\"text-align: right;\">\n",
       "      <th></th>\n",
       "      <th>ID</th>\n",
       "      <th>credit_limit</th>\n",
       "      <th>card_type</th>\n",
       "      <th>gender</th>\n",
       "      <th>education</th>\n",
       "      <th>age</th>\n",
       "      <th>pay_status_1</th>\n",
       "      <th>pay_status_2</th>\n",
       "      <th>pay_status_3</th>\n",
       "      <th>pay_status_4</th>\n",
       "      <th>...</th>\n",
       "      <th>bill_amount_2</th>\n",
       "      <th>bill_amount_3</th>\n",
       "      <th>bill_amount_4</th>\n",
       "      <th>bill_amount_5</th>\n",
       "      <th>pay_amount_1</th>\n",
       "      <th>pay_amount_2</th>\n",
       "      <th>pay_amount_3</th>\n",
       "      <th>pay_amount_4</th>\n",
       "      <th>pay_amount_5</th>\n",
       "      <th>Default</th>\n",
       "    </tr>\n",
       "  </thead>\n",
       "  <tbody>\n",
       "    <tr>\n",
       "      <th>0</th>\n",
       "      <td>10000</td>\n",
       "      <td>310000</td>\n",
       "      <td>VISA</td>\n",
       "      <td>1</td>\n",
       "      <td>3</td>\n",
       "      <td>32</td>\n",
       "      <td>0</td>\n",
       "      <td>0</td>\n",
       "      <td>0</td>\n",
       "      <td>0</td>\n",
       "      <td>...</td>\n",
       "      <td>152397</td>\n",
       "      <td>110375</td>\n",
       "      <td>84373</td>\n",
       "      <td>57779</td>\n",
       "      <td>8295</td>\n",
       "      <td>6000</td>\n",
       "      <td>4000</td>\n",
       "      <td>3000</td>\n",
       "      <td>1000</td>\n",
       "      <td>0</td>\n",
       "    </tr>\n",
       "    <tr>\n",
       "      <th>1</th>\n",
       "      <td>10001</td>\n",
       "      <td>10000</td>\n",
       "      <td>NaN</td>\n",
       "      <td>2</td>\n",
       "      <td>3</td>\n",
       "      <td>49</td>\n",
       "      <td>-1</td>\n",
       "      <td>-1</td>\n",
       "      <td>-2</td>\n",
       "      <td>-1</td>\n",
       "      <td>...</td>\n",
       "      <td>-358</td>\n",
       "      <td>-748</td>\n",
       "      <td>1690</td>\n",
       "      <td>1138</td>\n",
       "      <td>0</td>\n",
       "      <td>0</td>\n",
       "      <td>2828</td>\n",
       "      <td>0</td>\n",
       "      <td>182</td>\n",
       "      <td>1</td>\n",
       "    </tr>\n",
       "    <tr>\n",
       "      <th>2</th>\n",
       "      <td>10002</td>\n",
       "      <td>50000</td>\n",
       "      <td>MASTER</td>\n",
       "      <td>1</td>\n",
       "      <td>2</td>\n",
       "      <td>30</td>\n",
       "      <td>-1</td>\n",
       "      <td>-1</td>\n",
       "      <td>-1</td>\n",
       "      <td>0</td>\n",
       "      <td>...</td>\n",
       "      <td>0</td>\n",
       "      <td>46257</td>\n",
       "      <td>45975</td>\n",
       "      <td>1300</td>\n",
       "      <td>0</td>\n",
       "      <td>46257</td>\n",
       "      <td>2200</td>\n",
       "      <td>1300</td>\n",
       "      <td>43987</td>\n",
       "      <td>0</td>\n",
       "    </tr>\n",
       "    <tr>\n",
       "      <th>3</th>\n",
       "      <td>10003</td>\n",
       "      <td>80000</td>\n",
       "      <td>VISA</td>\n",
       "      <td>2</td>\n",
       "      <td>3</td>\n",
       "      <td>52</td>\n",
       "      <td>2</td>\n",
       "      <td>2</td>\n",
       "      <td>3</td>\n",
       "      <td>3</td>\n",
       "      <td>...</td>\n",
       "      <td>39448</td>\n",
       "      <td>40101</td>\n",
       "      <td>40748</td>\n",
       "      <td>39816</td>\n",
       "      <td>3700</td>\n",
       "      <td>1600</td>\n",
       "      <td>1600</td>\n",
       "      <td>0</td>\n",
       "      <td>1600</td>\n",
       "      <td>1</td>\n",
       "    </tr>\n",
       "    <tr>\n",
       "      <th>4</th>\n",
       "      <td>10004</td>\n",
       "      <td>270000</td>\n",
       "      <td>NaN</td>\n",
       "      <td>1</td>\n",
       "      <td>1</td>\n",
       "      <td>36</td>\n",
       "      <td>1</td>\n",
       "      <td>2</td>\n",
       "      <td>0</td>\n",
       "      <td>0</td>\n",
       "      <td>...</td>\n",
       "      <td>17228</td>\n",
       "      <td>20924</td>\n",
       "      <td>22448</td>\n",
       "      <td>15490</td>\n",
       "      <td>0</td>\n",
       "      <td>4000</td>\n",
       "      <td>2000</td>\n",
       "      <td>0</td>\n",
       "      <td>2000</td>\n",
       "      <td>0</td>\n",
       "    </tr>\n",
       "  </tbody>\n",
       "</table>\n",
       "<p>5 rows × 22 columns</p>\n",
       "</div>"
      ],
      "text/plain": [
       "      ID  credit_limit card_type  gender  education  age  pay_status_1  \\\n",
       "0  10000        310000      VISA       1          3   32             0   \n",
       "1  10001         10000       NaN       2          3   49            -1   \n",
       "2  10002         50000    MASTER       1          2   30            -1   \n",
       "3  10003         80000      VISA       2          3   52             2   \n",
       "4  10004        270000       NaN       1          1   36             1   \n",
       "\n",
       "   pay_status_2  pay_status_3  pay_status_4  ...  bill_amount_2  \\\n",
       "0             0             0             0  ...         152397   \n",
       "1            -1            -2            -1  ...           -358   \n",
       "2            -1            -1             0  ...              0   \n",
       "3             2             3             3  ...          39448   \n",
       "4             2             0             0  ...          17228   \n",
       "\n",
       "   bill_amount_3  bill_amount_4  bill_amount_5  pay_amount_1  pay_amount_2  \\\n",
       "0         110375          84373          57779          8295          6000   \n",
       "1           -748           1690           1138             0             0   \n",
       "2          46257          45975           1300             0         46257   \n",
       "3          40101          40748          39816          3700          1600   \n",
       "4          20924          22448          15490             0          4000   \n",
       "\n",
       "   pay_amount_3  pay_amount_4  pay_amount_5  Default  \n",
       "0          4000          3000          1000        0  \n",
       "1          2828             0           182        1  \n",
       "2          2200          1300         43987        0  \n",
       "3          1600             0          1600        1  \n",
       "4          2000             0          2000        0  \n",
       "\n",
       "[5 rows x 22 columns]"
      ]
     },
     "execution_count": 3,
     "metadata": {},
     "output_type": "execute_result"
    }
   ],
   "source": [
    "df = pd.read_csv(\"df_dev.csv\")\n",
    "df.head()"
   ]
  },
  {
   "cell_type": "code",
   "execution_count": 4,
   "id": "4bd49fb9-097e-4120-80db-7fb905679f8d",
   "metadata": {},
   "outputs": [
    {
     "data": {
      "text/plain": [
       "(20000, 22)"
      ]
     },
     "execution_count": 4,
     "metadata": {},
     "output_type": "execute_result"
    }
   ],
   "source": [
    "df.shape"
   ]
  },
  {
   "cell_type": "code",
   "execution_count": 5,
   "id": "d5006a8e-bdbc-4e4b-97a4-01e152aa3e21",
   "metadata": {},
   "outputs": [
    {
     "data": {
      "text/plain": [
       "ID                  0\n",
       "credit_limit        0\n",
       "card_type        6630\n",
       "gender              0\n",
       "education           0\n",
       "age                 0\n",
       "pay_status_1        0\n",
       "pay_status_2        0\n",
       "pay_status_3        0\n",
       "pay_status_4        0\n",
       "pay_status_5        0\n",
       "bill_amount_1       0\n",
       "bill_amount_2       0\n",
       "bill_amount_3       0\n",
       "bill_amount_4       0\n",
       "bill_amount_5       0\n",
       "pay_amount_1        0\n",
       "pay_amount_2        0\n",
       "pay_amount_3        0\n",
       "pay_amount_4        0\n",
       "pay_amount_5        0\n",
       "Default             0\n",
       "dtype: int64"
      ]
     },
     "execution_count": 5,
     "metadata": {},
     "output_type": "execute_result"
    }
   ],
   "source": [
    "df.isnull().sum()"
   ]
  },
  {
   "cell_type": "code",
   "execution_count": 6,
   "id": "d5ba690a-4b81-496a-b7d0-1f5b87976c09",
   "metadata": {},
   "outputs": [],
   "source": [
    "#Only missing value is in card_type,,, could be changed to other"
   ]
  },
  {
   "cell_type": "markdown",
   "id": "e48fcfe0-5e19-44ff-b004-0690019959a2",
   "metadata": {},
   "source": [
    "## Data description\n",
    "\n",
    "* credit_limit: Credit limit of the crad\n",
    "* card_type: The type of credit card\n",
    "* gender: The gender of the account owner\n",
    "* education: Education level of the account owner:\n",
    "    - 1: graduate school\n",
    "    - 2: university\n",
    "    - 3: high school\n",
    "    - 4: others\n",
    "    - 5 & 6: unknown\n",
    "* Age: age of the account owner\n",
    "* pay_status_i: Payment status of the i-th month before current month\n",
    "    - -1: pay duly\n",
    "    - k for 1 <= k <= 8: payment delay for k months\n",
    "    - 9: payment delay for nine months or above\n",
    "* bill_amount_i: statement balance of the i-th month before current month\n",
    "* pay_amount_i:  amount of payment made in the i-th month before current month\n",
    "* Default: Indicator of default for the next month (Target Variable)\n",
    "    - 1: Default\n",
    "    - 0: non-default"
   ]
  },
  {
   "cell_type": "markdown",
   "id": "35c99642",
   "metadata": {},
   "source": [
    "# Project aim\n",
    "\n",
    "The aim of the project is to follow best-practice modelling decisions and build an XGBoost model for predicting whether a credit card account will default in the next month. Please perform appropriate performance assessment and explain-ability/interpretability analyses on your model and feel free to make reasonable assumptions wherever needed.\n",
    "\n"
   ]
  },
  {
   "cell_type": "markdown",
   "id": "6adce76b",
   "metadata": {},
   "source": [
    "# EDA and Feature selection"
   ]
  },
  {
   "cell_type": "code",
   "execution_count": 7,
   "id": "4d9e998d",
   "metadata": {
    "scrolled": true
   },
   "outputs": [
    {
     "name": "stdout",
     "output_type": "stream",
     "text": [
      "<class 'pandas.core.frame.DataFrame'>\n",
      "RangeIndex: 20000 entries, 0 to 19999\n",
      "Data columns (total 22 columns):\n",
      " #   Column         Non-Null Count  Dtype \n",
      "---  ------         --------------  ----- \n",
      " 0   ID             20000 non-null  int64 \n",
      " 1   credit_limit   20000 non-null  int64 \n",
      " 2   card_type      13370 non-null  object\n",
      " 3   gender         20000 non-null  int64 \n",
      " 4   education      20000 non-null  int64 \n",
      " 5   age            20000 non-null  int64 \n",
      " 6   pay_status_1   20000 non-null  int64 \n",
      " 7   pay_status_2   20000 non-null  int64 \n",
      " 8   pay_status_3   20000 non-null  int64 \n",
      " 9   pay_status_4   20000 non-null  int64 \n",
      " 10  pay_status_5   20000 non-null  int64 \n",
      " 11  bill_amount_1  20000 non-null  int64 \n",
      " 12  bill_amount_2  20000 non-null  int64 \n",
      " 13  bill_amount_3  20000 non-null  int64 \n",
      " 14  bill_amount_4  20000 non-null  int64 \n",
      " 15  bill_amount_5  20000 non-null  int64 \n",
      " 16  pay_amount_1   20000 non-null  int64 \n",
      " 17  pay_amount_2   20000 non-null  int64 \n",
      " 18  pay_amount_3   20000 non-null  int64 \n",
      " 19  pay_amount_4   20000 non-null  int64 \n",
      " 20  pay_amount_5   20000 non-null  int64 \n",
      " 21  Default        20000 non-null  int64 \n",
      "dtypes: int64(21), object(1)\n",
      "memory usage: 3.4+ MB\n"
     ]
    }
   ],
   "source": [
    "df.info()"
   ]
  },
  {
   "cell_type": "code",
   "execution_count": 8,
   "id": "22096f17",
   "metadata": {
    "scrolled": true
   },
   "outputs": [
    {
     "name": "stdout",
     "output_type": "stream",
     "text": [
      "1     7916\n",
      "2    12084\n",
      "Name: gender, dtype: int64 \n",
      "\n",
      "MASTER    6683\n",
      "VISA      6687\n",
      "Name: card_type, dtype: int64 \n",
      "\n",
      "0       8\n",
      "1    7123\n",
      "2    9295\n",
      "3    3260\n",
      "4      93\n",
      "5     183\n",
      "6      38\n",
      "Name: education, dtype: int64 \n",
      "\n"
     ]
    }
   ],
   "source": [
    "#seperating categorial and numerical variables\n",
    "\n",
    "num_cols = [\"credit_limit\", \"age\", 'pay_status_1', 'pay_status_2',\n",
    "            'pay_status_3', 'pay_status_4', 'pay_status_5', 'bill_amount_1', 'bill_amount_2',\n",
    "            'bill_amount_3', 'bill_amount_4', 'bill_amount_5', 'pay_amount_1',\n",
    "            'pay_amount_2', 'pay_amount_3', 'pay_amount_4', 'pay_amount_5']\n",
    "\n",
    "cat_cols = [\"gender\", \"card_type\", \"education\"]\n",
    "\n",
    "for col in cat_cols:\n",
    "    print(df[col].value_counts().sort_index(), \"\\n\")"
   ]
  },
  {
   "cell_type": "code",
   "execution_count": 9,
   "id": "c6ef7269",
   "metadata": {
    "scrolled": false
   },
   "outputs": [
    {
     "data": {
      "text/plain": [
       "2    9295\n",
       "1    7123\n",
       "3    3260\n",
       "4     322\n",
       "Name: education, dtype: int64"
      ]
     },
     "execution_count": 9,
     "metadata": {},
     "output_type": "execute_result"
    }
   ],
   "source": [
    "#grouping 0,5,6 with 4=Others\n",
    "df['education']=np.where(df['education'] == 5, 4, df['education'])\n",
    "df['education']=np.where(df['education'] == 6, 4, df['education'])\n",
    "df['education']=np.where(df['education'] == 0, 4, df['education'])\n",
    "df.education.value_counts()"
   ]
  },
  {
   "cell_type": "code",
   "execution_count": 10,
   "id": "0c641374",
   "metadata": {},
   "outputs": [
    {
     "data": {
      "text/plain": [
       "6630"
      ]
     },
     "execution_count": 10,
     "metadata": {},
     "output_type": "execute_result"
    }
   ],
   "source": [
    "df.card_type.isnull().sum()"
   ]
  },
  {
   "cell_type": "code",
   "execution_count": 11,
   "id": "1c25f3c6",
   "metadata": {},
   "outputs": [
    {
     "data": {
      "text/plain": [
       "VISA      6687\n",
       "MASTER    6683\n",
       "Other     6630\n",
       "Name: card_type, dtype: int64"
      ]
     },
     "execution_count": 11,
     "metadata": {},
     "output_type": "execute_result"
    }
   ],
   "source": [
    "#change NaN in card type to a category of its own\n",
    "df.card_type = np.where(df.card_type.isnull(), \"Other\", df.card_type)\n",
    "\n",
    "df.card_type.value_counts()"
   ]
  },
  {
   "cell_type": "code",
   "execution_count": 12,
   "id": "3c50a4e5",
   "metadata": {},
   "outputs": [],
   "source": [
    "#Marking categorical columns astype(categorical)\n",
    "for col in cat_cols:\n",
    "    df[col] = df[col].astype('category')"
   ]
  },
  {
   "cell_type": "code",
   "execution_count": 13,
   "id": "40275745",
   "metadata": {
    "scrolled": true
   },
   "outputs": [
    {
     "name": "stdout",
     "output_type": "stream",
     "text": [
      "<class 'pandas.core.frame.DataFrame'>\n",
      "RangeIndex: 20000 entries, 0 to 19999\n",
      "Data columns (total 22 columns):\n",
      " #   Column         Non-Null Count  Dtype   \n",
      "---  ------         --------------  -----   \n",
      " 0   ID             20000 non-null  int64   \n",
      " 1   credit_limit   20000 non-null  int64   \n",
      " 2   card_type      20000 non-null  category\n",
      " 3   gender         20000 non-null  category\n",
      " 4   education      20000 non-null  category\n",
      " 5   age            20000 non-null  int64   \n",
      " 6   pay_status_1   20000 non-null  int64   \n",
      " 7   pay_status_2   20000 non-null  int64   \n",
      " 8   pay_status_3   20000 non-null  int64   \n",
      " 9   pay_status_4   20000 non-null  int64   \n",
      " 10  pay_status_5   20000 non-null  int64   \n",
      " 11  bill_amount_1  20000 non-null  int64   \n",
      " 12  bill_amount_2  20000 non-null  int64   \n",
      " 13  bill_amount_3  20000 non-null  int64   \n",
      " 14  bill_amount_4  20000 non-null  int64   \n",
      " 15  bill_amount_5  20000 non-null  int64   \n",
      " 16  pay_amount_1   20000 non-null  int64   \n",
      " 17  pay_amount_2   20000 non-null  int64   \n",
      " 18  pay_amount_3   20000 non-null  int64   \n",
      " 19  pay_amount_4   20000 non-null  int64   \n",
      " 20  pay_amount_5   20000 non-null  int64   \n",
      " 21  Default        20000 non-null  int64   \n",
      "dtypes: category(3), int64(19)\n",
      "memory usage: 3.0 MB\n"
     ]
    }
   ],
   "source": [
    "df.info()"
   ]
  },
  {
   "cell_type": "markdown",
   "id": "248f1f1a",
   "metadata": {},
   "source": [
    "## Target variable"
   ]
  },
  {
   "cell_type": "code",
   "execution_count": 14,
   "id": "8a3a94cd",
   "metadata": {},
   "outputs": [
    {
     "data": {
      "image/png": "[encoded data removed]",
      "text/plain": [
       "<Figure size 504x288 with 1 Axes>"
      ]
     },
     "metadata": {
      "needs_background": "light"
     },
     "output_type": "display_data"
    }
   ],
   "source": [
    "# The frequency of defaults\n",
    "yes = df.Default.sum()\n",
    "no = len(df)-yes\n",
    "\n",
    "# Percentage\n",
    "yes_perc = round(yes/len(df)*100, 1)\n",
    "no_perc = round(no/len(df)*100, 1)\n",
    "\n",
    "import sys \n",
    "plt.figure(figsize=(7,4))\n",
    "sns.set_context('notebook', font_scale=1.2)\n",
    "sns.countplot('Default', data =df, palette=\"Blues\")\n",
    "plt.annotate('Non-default: {}'.format(no), xy=(-0.3, 15000), xytext=(-0.3, 3000), size=12)\n",
    "plt.annotate('Default: {}'.format(yes), xy=(0.7, 15000), xytext=(0.7, 3000), size=12)\n",
    "plt.annotate(str(no_perc)+\" %\", xy=(-0.3, 15000), xytext=(-0.1, 8000), size=12)\n",
    "plt.annotate(str(yes_perc)+\" %\", xy=(0.7, 15000), xytext=(0.9, 8000), size=12)\n",
    "plt.title('COUNT OF CREDIT CARDS', size=14)\n",
    "#Removing the frame\n",
    "plt.box(False);"
   ]
  },
  {
   "cell_type": "markdown",
   "id": "6be30578",
   "metadata": {},
   "source": [
    "## Correlation among numerical vars"
   ]
  },
  {
   "cell_type": "code",
   "execution_count": 15,
   "id": "894ed5af",
   "metadata": {
    "scrolled": false
   },
   "outputs": [
    {
     "data": {
      "text/html": [
       "<style type=\"text/css\">\n",
       "#T_de66c_row0_col0, #T_de66c_row0_col1, #T_de66c_row0_col2, #T_de66c_row0_col3, #T_de66c_row0_col4, #T_de66c_row0_col5, #T_de66c_row0_col6, #T_de66c_row0_col7, #T_de66c_row0_col8, #T_de66c_row0_col9, #T_de66c_row0_col10, #T_de66c_row0_col11, #T_de66c_row0_col12, #T_de66c_row0_col13, #T_de66c_row0_col14, #T_de66c_row0_col15, #T_de66c_row0_col16, #T_de66c_row1_col1, #T_de66c_row1_col2, #T_de66c_row1_col3, #T_de66c_row1_col4, #T_de66c_row1_col5, #T_de66c_row1_col6, #T_de66c_row1_col7, #T_de66c_row1_col8, #T_de66c_row1_col9, #T_de66c_row1_col10, #T_de66c_row1_col11, #T_de66c_row1_col12, #T_de66c_row1_col13, #T_de66c_row1_col14, #T_de66c_row1_col15, #T_de66c_row1_col16, #T_de66c_row2_col2, #T_de66c_row2_col3, #T_de66c_row2_col4, #T_de66c_row2_col5, #T_de66c_row2_col6, #T_de66c_row2_col7, #T_de66c_row2_col8, #T_de66c_row2_col9, #T_de66c_row2_col10, #T_de66c_row2_col11, #T_de66c_row2_col12, #T_de66c_row2_col13, #T_de66c_row2_col14, #T_de66c_row2_col15, #T_de66c_row2_col16, #T_de66c_row3_col3, #T_de66c_row3_col4, #T_de66c_row3_col5, #T_de66c_row3_col6, #T_de66c_row3_col7, #T_de66c_row3_col8, #T_de66c_row3_col9, #T_de66c_row3_col10, #T_de66c_row3_col11, #T_de66c_row3_col12, #T_de66c_row3_col13, #T_de66c_row3_col14, #T_de66c_row3_col15, #T_de66c_row3_col16, #T_de66c_row4_col4, #T_de66c_row4_col5, #T_de66c_row4_col6, #T_de66c_row4_col7, #T_de66c_row4_col8, #T_de66c_row4_col9, #T_de66c_row4_col10, #T_de66c_row4_col11, #T_de66c_row4_col12, #T_de66c_row4_col13, #T_de66c_row4_col14, #T_de66c_row4_col15, #T_de66c_row4_col16, #T_de66c_row5_col5, #T_de66c_row5_col6, #T_de66c_row5_col7, #T_de66c_row5_col8, #T_de66c_row5_col9, #T_de66c_row5_col10, #T_de66c_row5_col11, #T_de66c_row5_col12, #T_de66c_row5_col13, #T_de66c_row5_col14, #T_de66c_row5_col15, #T_de66c_row5_col16, #T_de66c_row6_col6, #T_de66c_row6_col7, #T_de66c_row6_col8, #T_de66c_row6_col9, #T_de66c_row6_col10, #T_de66c_row6_col11, #T_de66c_row6_col12, #T_de66c_row6_col13, #T_de66c_row6_col14, #T_de66c_row6_col15, #T_de66c_row6_col16, #T_de66c_row7_col7, #T_de66c_row7_col8, #T_de66c_row7_col9, #T_de66c_row7_col10, #T_de66c_row7_col11, #T_de66c_row7_col12, #T_de66c_row7_col13, #T_de66c_row7_col14, #T_de66c_row7_col15, #T_de66c_row7_col16, #T_de66c_row8_col8, #T_de66c_row8_col9, #T_de66c_row8_col10, #T_de66c_row8_col11, #T_de66c_row8_col12, #T_de66c_row8_col13, #T_de66c_row8_col14, #T_de66c_row8_col15, #T_de66c_row8_col16, #T_de66c_row9_col9, #T_de66c_row9_col10, #T_de66c_row9_col11, #T_de66c_row9_col12, #T_de66c_row9_col13, #T_de66c_row9_col14, #T_de66c_row9_col15, #T_de66c_row9_col16, #T_de66c_row10_col10, #T_de66c_row10_col11, #T_de66c_row10_col12, #T_de66c_row10_col13, #T_de66c_row10_col14, #T_de66c_row10_col15, #T_de66c_row10_col16, #T_de66c_row11_col11, #T_de66c_row11_col12, #T_de66c_row11_col13, #T_de66c_row11_col14, #T_de66c_row11_col15, #T_de66c_row11_col16, #T_de66c_row12_col12, #T_de66c_row12_col13, #T_de66c_row12_col14, #T_de66c_row12_col15, #T_de66c_row12_col16, #T_de66c_row13_col13, #T_de66c_row13_col14, #T_de66c_row13_col15, #T_de66c_row13_col16, #T_de66c_row14_col14, #T_de66c_row14_col15, #T_de66c_row14_col16, #T_de66c_row15_col15, #T_de66c_row15_col16, #T_de66c_row16_col16 {\n",
       "  background-color: #000000;\n",
       "  color: #f1f1f1;\n",
       "  background-color: #f1f1f1;\n",
       "}\n",
       "#T_de66c_row1_col0, #T_de66c_row15_col7, #T_de66c_row16_col8, #T_de66c_row16_col10, #T_de66c_row16_col15 {\n",
       "  background-color: #eed0c0;\n",
       "  color: #000000;\n",
       "}\n",
       "#T_de66c_row2_col0 {\n",
       "  background-color: #b5cdfa;\n",
       "  color: #000000;\n",
       "}\n",
       "#T_de66c_row2_col1, #T_de66c_row15_col4, #T_de66c_row15_col5 {\n",
       "  background-color: #d7dce3;\n",
       "  color: #000000;\n",
       "}\n",
       "#T_de66c_row3_col0 {\n",
       "  background-color: #b1cbfc;\n",
       "  color: #000000;\n",
       "}\n",
       "#T_de66c_row3_col1, #T_de66c_row5_col1, #T_de66c_row14_col4, #T_de66c_row15_col3 {\n",
       "  background-color: #d6dce4;\n",
       "  color: #000000;\n",
       "}\n",
       "#T_de66c_row3_col2, #T_de66c_row5_col3 {\n",
       "  background-color: #e8765c;\n",
       "  color: #f1f1f1;\n",
       "}\n",
       "#T_de66c_row4_col0 {\n",
       "  background-color: #b2ccfb;\n",
       "  color: #000000;\n",
       "}\n",
       "#T_de66c_row4_col1, #T_de66c_row6_col1, #T_de66c_row13_col3, #T_de66c_row14_col3, #T_de66c_row15_col6, #T_de66c_row16_col2 {\n",
       "  background-color: #d5dbe5;\n",
       "  color: #000000;\n",
       "}\n",
       "#T_de66c_row4_col2 {\n",
       "  background-color: #f08b6e;\n",
       "  color: #f1f1f1;\n",
       "}\n",
       "#T_de66c_row4_col3 {\n",
       "  background-color: #da5a49;\n",
       "  color: #f1f1f1;\n",
       "}\n",
       "#T_de66c_row5_col0 {\n",
       "  background-color: #b6cefa;\n",
       "  color: #000000;\n",
       "}\n",
       "#T_de66c_row5_col2 {\n",
       "  background-color: #f29274;\n",
       "  color: #f1f1f1;\n",
       "}\n",
       "#T_de66c_row5_col4 {\n",
       "  background-color: #d95847;\n",
       "  color: #f1f1f1;\n",
       "}\n",
       "#T_de66c_row6_col0 {\n",
       "  background-color: #b9d0f9;\n",
       "  color: #000000;\n",
       "}\n",
       "#T_de66c_row6_col2 {\n",
       "  background-color: #f4987a;\n",
       "  color: #000000;\n",
       "}\n",
       "#T_de66c_row6_col3 {\n",
       "  background-color: #ec7f63;\n",
       "  color: #f1f1f1;\n",
       "}\n",
       "#T_de66c_row6_col4 {\n",
       "  background-color: #e57058;\n",
       "  color: #f1f1f1;\n",
       "}\n",
       "#T_de66c_row6_col5 {\n",
       "  background-color: #d44e41;\n",
       "  color: #f1f1f1;\n",
       "}\n",
       "#T_de66c_row7_col0, #T_de66c_row15_col11 {\n",
       "  background-color: #f6bea4;\n",
       "  color: #000000;\n",
       "}\n",
       "#T_de66c_row7_col1, #T_de66c_row8_col1, #T_de66c_row9_col1, #T_de66c_row10_col1, #T_de66c_row11_col1 {\n",
       "  background-color: #e4d9d2;\n",
       "  color: #000000;\n",
       "}\n",
       "#T_de66c_row7_col2, #T_de66c_row8_col2, #T_de66c_row12_col0, #T_de66c_row16_col13 {\n",
       "  background-color: #f1ccb8;\n",
       "  color: #000000;\n",
       "}\n",
       "#T_de66c_row7_col3, #T_de66c_row8_col5, #T_de66c_row8_col6, #T_de66c_row9_col4, #T_de66c_row10_col4, #T_de66c_row14_col11 {\n",
       "  background-color: #f4c6af;\n",
       "  color: #000000;\n",
       "}\n",
       "#T_de66c_row7_col4, #T_de66c_row7_col5, #T_de66c_row7_col6, #T_de66c_row12_col11, #T_de66c_row15_col12 {\n",
       "  background-color: #f2c9b4;\n",
       "  color: #000000;\n",
       "}\n",
       "#T_de66c_row8_col0, #T_de66c_row9_col0, #T_de66c_row14_col10 {\n",
       "  background-color: #f6bfa6;\n",
       "  color: #000000;\n",
       "}\n",
       "#T_de66c_row8_col3, #T_de66c_row8_col4, #T_de66c_row9_col6, #T_de66c_row15_col14 {\n",
       "  background-color: #f4c5ad;\n",
       "  color: #000000;\n",
       "}\n",
       "#T_de66c_row8_col7 {\n",
       "  background-color: #bd1f2d;\n",
       "  color: #f1f1f1;\n",
       "}\n",
       "#T_de66c_row9_col2, #T_de66c_row10_col2, #T_de66c_row11_col2, #T_de66c_row13_col11, #T_de66c_row16_col9 {\n",
       "  background-color: #f1cdba;\n",
       "  color: #000000;\n",
       "}\n",
       "#T_de66c_row9_col3, #T_de66c_row10_col3, #T_de66c_row11_col3, #T_de66c_row11_col4, #T_de66c_row12_col9, #T_de66c_row12_col10 {\n",
       "  background-color: #f3c7b1;\n",
       "  color: #000000;\n",
       "}\n",
       "#T_de66c_row9_col5, #T_de66c_row10_col5, #T_de66c_row11_col5 {\n",
       "  background-color: #f5c4ac;\n",
       "  color: #000000;\n",
       "}\n",
       "#T_de66c_row9_col7 {\n",
       "  background-color: #c83836;\n",
       "  color: #f1f1f1;\n",
       "}\n",
       "#T_de66c_row9_col8 {\n",
       "  background-color: #c12b30;\n",
       "  color: #f1f1f1;\n",
       "}\n",
       "#T_de66c_row10_col0, #T_de66c_row11_col0, #T_de66c_row14_col12 {\n",
       "  background-color: #f6bda2;\n",
       "  color: #000000;\n",
       "}\n",
       "#T_de66c_row10_col6, #T_de66c_row11_col6, #T_de66c_row12_col8 {\n",
       "  background-color: #f5c0a7;\n",
       "  color: #000000;\n",
       "}\n",
       "#T_de66c_row10_col7, #T_de66c_row11_col8 {\n",
       "  background-color: #cc403a;\n",
       "  color: #f1f1f1;\n",
       "}\n",
       "#T_de66c_row10_col8 {\n",
       "  background-color: #c73635;\n",
       "  color: #f1f1f1;\n",
       "}\n",
       "#T_de66c_row10_col9 {\n",
       "  background-color: #c32e31;\n",
       "  color: #f1f1f1;\n",
       "}\n",
       "#T_de66c_row11_col7 {\n",
       "  background-color: #d24b40;\n",
       "  color: #f1f1f1;\n",
       "}\n",
       "#T_de66c_row11_col9 {\n",
       "  background-color: #ca3b37;\n",
       "  color: #f1f1f1;\n",
       "}\n",
       "#T_de66c_row11_col10 {\n",
       "  background-color: #be242e;\n",
       "  color: #f1f1f1;\n",
       "}\n",
       "#T_de66c_row12_col1 {\n",
       "  background-color: #e1dad6;\n",
       "  color: #000000;\n",
       "}\n",
       "#T_de66c_row12_col2, #T_de66c_row12_col3, #T_de66c_row14_col2 {\n",
       "  background-color: #d3dbe7;\n",
       "  color: #000000;\n",
       "}\n",
       "#T_de66c_row12_col4, #T_de66c_row13_col5 {\n",
       "  background-color: #dddcdc;\n",
       "  color: #000000;\n",
       "}\n",
       "#T_de66c_row12_col5, #T_de66c_row12_col6, #T_de66c_row13_col6 {\n",
       "  background-color: #dcdddd;\n",
       "  color: #000000;\n",
       "}\n",
       "#T_de66c_row12_col7, #T_de66c_row14_col8, #T_de66c_row15_col8, #T_de66c_row15_col9, #T_de66c_row16_col11 {\n",
       "  background-color: #edd2c3;\n",
       "  color: #000000;\n",
       "}\n",
       "#T_de66c_row13_col0, #T_de66c_row16_col7, #T_de66c_row16_col14 {\n",
       "  background-color: #efcebd;\n",
       "  color: #000000;\n",
       "}\n",
       "#T_de66c_row13_col1, #T_de66c_row14_col1, #T_de66c_row16_col1 {\n",
       "  background-color: #e0dbd8;\n",
       "  color: #000000;\n",
       "}\n",
       "#T_de66c_row13_col2, #T_de66c_row13_col4, #T_de66c_row14_col5, #T_de66c_row15_col2 {\n",
       "  background-color: #d4dbe6;\n",
       "  color: #000000;\n",
       "}\n",
       "#T_de66c_row13_col7 {\n",
       "  background-color: #e9d5cb;\n",
       "  color: #000000;\n",
       "}\n",
       "#T_de66c_row13_col8 {\n",
       "  background-color: #e8d6cc;\n",
       "  color: #000000;\n",
       "}\n",
       "#T_de66c_row13_col9 {\n",
       "  background-color: #f7ba9f;\n",
       "  color: #000000;\n",
       "}\n",
       "#T_de66c_row13_col10 {\n",
       "  background-color: #f2cbb7;\n",
       "  color: #000000;\n",
       "}\n",
       "#T_de66c_row13_col12 {\n",
       "  background-color: #f5c2aa;\n",
       "  color: #000000;\n",
       "}\n",
       "#T_de66c_row14_col0, #T_de66c_row15_col0, #T_de66c_row15_col13 {\n",
       "  background-color: #f2cab5;\n",
       "  color: #000000;\n",
       "}\n",
       "#T_de66c_row14_col6 {\n",
       "  background-color: #dedcdb;\n",
       "  color: #000000;\n",
       "}\n",
       "#T_de66c_row14_col7, #T_de66c_row16_col12 {\n",
       "  background-color: #edd1c2;\n",
       "  color: #000000;\n",
       "}\n",
       "#T_de66c_row14_col9, #T_de66c_row15_col10 {\n",
       "  background-color: #ebd3c6;\n",
       "  color: #000000;\n",
       "}\n",
       "#T_de66c_row14_col13 {\n",
       "  background-color: #f5c1a9;\n",
       "  color: #000000;\n",
       "}\n",
       "#T_de66c_row15_col1 {\n",
       "  background-color: #dfdbd9;\n",
       "  color: #000000;\n",
       "}\n",
       "#T_de66c_row16_col0 {\n",
       "  background-color: #f3c8b2;\n",
       "  color: #000000;\n",
       "}\n",
       "#T_de66c_row16_col3, #T_de66c_row16_col4, #T_de66c_row16_col5, #T_de66c_row16_col6 {\n",
       "  background-color: #d8dce2;\n",
       "  color: #000000;\n",
       "}\n",
       "</style>\n",
       "<table id=\"T_de66c_\">\n",
       "  <thead>\n",
       "    <tr>\n",
       "      <th class=\"blank level0\" >&nbsp;</th>\n",
       "      <th class=\"col_heading level0 col0\" >credit_limit</th>\n",
       "      <th class=\"col_heading level0 col1\" >age</th>\n",
       "      <th class=\"col_heading level0 col2\" >pay_status_1</th>\n",
       "      <th class=\"col_heading level0 col3\" >pay_status_2</th>\n",
       "      <th class=\"col_heading level0 col4\" >pay_status_3</th>\n",
       "      <th class=\"col_heading level0 col5\" >pay_status_4</th>\n",
       "      <th class=\"col_heading level0 col6\" >pay_status_5</th>\n",
       "      <th class=\"col_heading level0 col7\" >bill_amount_1</th>\n",
       "      <th class=\"col_heading level0 col8\" >bill_amount_2</th>\n",
       "      <th class=\"col_heading level0 col9\" >bill_amount_3</th>\n",
       "      <th class=\"col_heading level0 col10\" >bill_amount_4</th>\n",
       "      <th class=\"col_heading level0 col11\" >bill_amount_5</th>\n",
       "      <th class=\"col_heading level0 col12\" >pay_amount_1</th>\n",
       "      <th class=\"col_heading level0 col13\" >pay_amount_2</th>\n",
       "      <th class=\"col_heading level0 col14\" >pay_amount_3</th>\n",
       "      <th class=\"col_heading level0 col15\" >pay_amount_4</th>\n",
       "      <th class=\"col_heading level0 col16\" >pay_amount_5</th>\n",
       "    </tr>\n",
       "  </thead>\n",
       "  <tbody>\n",
       "    <tr>\n",
       "      <th id=\"T_de66c_level0_row0\" class=\"row_heading level0 row0\" >credit_limit</th>\n",
       "      <td id=\"T_de66c_row0_col0\" class=\"data row0 col0\" >nan</td>\n",
       "      <td id=\"T_de66c_row0_col1\" class=\"data row0 col1\" >nan</td>\n",
       "      <td id=\"T_de66c_row0_col2\" class=\"data row0 col2\" >nan</td>\n",
       "      <td id=\"T_de66c_row0_col3\" class=\"data row0 col3\" >nan</td>\n",
       "      <td id=\"T_de66c_row0_col4\" class=\"data row0 col4\" >nan</td>\n",
       "      <td id=\"T_de66c_row0_col5\" class=\"data row0 col5\" >nan</td>\n",
       "      <td id=\"T_de66c_row0_col6\" class=\"data row0 col6\" >nan</td>\n",
       "      <td id=\"T_de66c_row0_col7\" class=\"data row0 col7\" >nan</td>\n",
       "      <td id=\"T_de66c_row0_col8\" class=\"data row0 col8\" >nan</td>\n",
       "      <td id=\"T_de66c_row0_col9\" class=\"data row0 col9\" >nan</td>\n",
       "      <td id=\"T_de66c_row0_col10\" class=\"data row0 col10\" >nan</td>\n",
       "      <td id=\"T_de66c_row0_col11\" class=\"data row0 col11\" >nan</td>\n",
       "      <td id=\"T_de66c_row0_col12\" class=\"data row0 col12\" >nan</td>\n",
       "      <td id=\"T_de66c_row0_col13\" class=\"data row0 col13\" >nan</td>\n",
       "      <td id=\"T_de66c_row0_col14\" class=\"data row0 col14\" >nan</td>\n",
       "      <td id=\"T_de66c_row0_col15\" class=\"data row0 col15\" >nan</td>\n",
       "      <td id=\"T_de66c_row0_col16\" class=\"data row0 col16\" >nan</td>\n",
       "    </tr>\n",
       "    <tr>\n",
       "      <th id=\"T_de66c_level0_row1\" class=\"row_heading level0 row1\" >age</th>\n",
       "      <td id=\"T_de66c_row1_col0\" class=\"data row1 col0\" >0.15</td>\n",
       "      <td id=\"T_de66c_row1_col1\" class=\"data row1 col1\" >nan</td>\n",
       "      <td id=\"T_de66c_row1_col2\" class=\"data row1 col2\" >nan</td>\n",
       "      <td id=\"T_de66c_row1_col3\" class=\"data row1 col3\" >nan</td>\n",
       "      <td id=\"T_de66c_row1_col4\" class=\"data row1 col4\" >nan</td>\n",
       "      <td id=\"T_de66c_row1_col5\" class=\"data row1 col5\" >nan</td>\n",
       "      <td id=\"T_de66c_row1_col6\" class=\"data row1 col6\" >nan</td>\n",
       "      <td id=\"T_de66c_row1_col7\" class=\"data row1 col7\" >nan</td>\n",
       "      <td id=\"T_de66c_row1_col8\" class=\"data row1 col8\" >nan</td>\n",
       "      <td id=\"T_de66c_row1_col9\" class=\"data row1 col9\" >nan</td>\n",
       "      <td id=\"T_de66c_row1_col10\" class=\"data row1 col10\" >nan</td>\n",
       "      <td id=\"T_de66c_row1_col11\" class=\"data row1 col11\" >nan</td>\n",
       "      <td id=\"T_de66c_row1_col12\" class=\"data row1 col12\" >nan</td>\n",
       "      <td id=\"T_de66c_row1_col13\" class=\"data row1 col13\" >nan</td>\n",
       "      <td id=\"T_de66c_row1_col14\" class=\"data row1 col14\" >nan</td>\n",
       "      <td id=\"T_de66c_row1_col15\" class=\"data row1 col15\" >nan</td>\n",
       "      <td id=\"T_de66c_row1_col16\" class=\"data row1 col16\" >nan</td>\n",
       "    </tr>\n",
       "    <tr>\n",
       "      <th id=\"T_de66c_level0_row2\" class=\"row_heading level0 row2\" >pay_status_1</th>\n",
       "      <td id=\"T_de66c_row2_col0\" class=\"data row2 col0\" >-0.27</td>\n",
       "      <td id=\"T_de66c_row2_col1\" class=\"data row2 col1\" >-0.04</td>\n",
       "      <td id=\"T_de66c_row2_col2\" class=\"data row2 col2\" >nan</td>\n",
       "      <td id=\"T_de66c_row2_col3\" class=\"data row2 col3\" >nan</td>\n",
       "      <td id=\"T_de66c_row2_col4\" class=\"data row2 col4\" >nan</td>\n",
       "      <td id=\"T_de66c_row2_col5\" class=\"data row2 col5\" >nan</td>\n",
       "      <td id=\"T_de66c_row2_col6\" class=\"data row2 col6\" >nan</td>\n",
       "      <td id=\"T_de66c_row2_col7\" class=\"data row2 col7\" >nan</td>\n",
       "      <td id=\"T_de66c_row2_col8\" class=\"data row2 col8\" >nan</td>\n",
       "      <td id=\"T_de66c_row2_col9\" class=\"data row2 col9\" >nan</td>\n",
       "      <td id=\"T_de66c_row2_col10\" class=\"data row2 col10\" >nan</td>\n",
       "      <td id=\"T_de66c_row2_col11\" class=\"data row2 col11\" >nan</td>\n",
       "      <td id=\"T_de66c_row2_col12\" class=\"data row2 col12\" >nan</td>\n",
       "      <td id=\"T_de66c_row2_col13\" class=\"data row2 col13\" >nan</td>\n",
       "      <td id=\"T_de66c_row2_col14\" class=\"data row2 col14\" >nan</td>\n",
       "      <td id=\"T_de66c_row2_col15\" class=\"data row2 col15\" >nan</td>\n",
       "      <td id=\"T_de66c_row2_col16\" class=\"data row2 col16\" >nan</td>\n",
       "    </tr>\n",
       "    <tr>\n",
       "      <th id=\"T_de66c_level0_row3\" class=\"row_heading level0 row3\" >pay_status_2</th>\n",
       "      <td id=\"T_de66c_row3_col0\" class=\"data row3 col0\" >-0.29</td>\n",
       "      <td id=\"T_de66c_row3_col1\" class=\"data row3 col1\" >-0.05</td>\n",
       "      <td id=\"T_de66c_row3_col2\" class=\"data row3 col2\" >0.66</td>\n",
       "      <td id=\"T_de66c_row3_col3\" class=\"data row3 col3\" >nan</td>\n",
       "      <td id=\"T_de66c_row3_col4\" class=\"data row3 col4\" >nan</td>\n",
       "      <td id=\"T_de66c_row3_col5\" class=\"data row3 col5\" >nan</td>\n",
       "      <td id=\"T_de66c_row3_col6\" class=\"data row3 col6\" >nan</td>\n",
       "      <td id=\"T_de66c_row3_col7\" class=\"data row3 col7\" >nan</td>\n",
       "      <td id=\"T_de66c_row3_col8\" class=\"data row3 col8\" >nan</td>\n",
       "      <td id=\"T_de66c_row3_col9\" class=\"data row3 col9\" >nan</td>\n",
       "      <td id=\"T_de66c_row3_col10\" class=\"data row3 col10\" >nan</td>\n",
       "      <td id=\"T_de66c_row3_col11\" class=\"data row3 col11\" >nan</td>\n",
       "      <td id=\"T_de66c_row3_col12\" class=\"data row3 col12\" >nan</td>\n",
       "      <td id=\"T_de66c_row3_col13\" class=\"data row3 col13\" >nan</td>\n",
       "      <td id=\"T_de66c_row3_col14\" class=\"data row3 col14\" >nan</td>\n",
       "      <td id=\"T_de66c_row3_col15\" class=\"data row3 col15\" >nan</td>\n",
       "      <td id=\"T_de66c_row3_col16\" class=\"data row3 col16\" >nan</td>\n",
       "    </tr>\n",
       "    <tr>\n",
       "      <th id=\"T_de66c_level0_row4\" class=\"row_heading level0 row4\" >pay_status_3</th>\n",
       "      <td id=\"T_de66c_row4_col0\" class=\"data row4 col0\" >-0.28</td>\n",
       "      <td id=\"T_de66c_row4_col1\" class=\"data row4 col1\" >-0.06</td>\n",
       "      <td id=\"T_de66c_row4_col2\" class=\"data row4 col2\" >0.57</td>\n",
       "      <td id=\"T_de66c_row4_col3\" class=\"data row4 col3\" >0.77</td>\n",
       "      <td id=\"T_de66c_row4_col4\" class=\"data row4 col4\" >nan</td>\n",
       "      <td id=\"T_de66c_row4_col5\" class=\"data row4 col5\" >nan</td>\n",
       "      <td id=\"T_de66c_row4_col6\" class=\"data row4 col6\" >nan</td>\n",
       "      <td id=\"T_de66c_row4_col7\" class=\"data row4 col7\" >nan</td>\n",
       "      <td id=\"T_de66c_row4_col8\" class=\"data row4 col8\" >nan</td>\n",
       "      <td id=\"T_de66c_row4_col9\" class=\"data row4 col9\" >nan</td>\n",
       "      <td id=\"T_de66c_row4_col10\" class=\"data row4 col10\" >nan</td>\n",
       "      <td id=\"T_de66c_row4_col11\" class=\"data row4 col11\" >nan</td>\n",
       "      <td id=\"T_de66c_row4_col12\" class=\"data row4 col12\" >nan</td>\n",
       "      <td id=\"T_de66c_row4_col13\" class=\"data row4 col13\" >nan</td>\n",
       "      <td id=\"T_de66c_row4_col14\" class=\"data row4 col14\" >nan</td>\n",
       "      <td id=\"T_de66c_row4_col15\" class=\"data row4 col15\" >nan</td>\n",
       "      <td id=\"T_de66c_row4_col16\" class=\"data row4 col16\" >nan</td>\n",
       "    </tr>\n",
       "    <tr>\n",
       "      <th id=\"T_de66c_level0_row5\" class=\"row_heading level0 row5\" >pay_status_4</th>\n",
       "      <td id=\"T_de66c_row5_col0\" class=\"data row5 col0\" >-0.26</td>\n",
       "      <td id=\"T_de66c_row5_col1\" class=\"data row5 col1\" >-0.05</td>\n",
       "      <td id=\"T_de66c_row5_col2\" class=\"data row5 col2\" >0.54</td>\n",
       "      <td id=\"T_de66c_row5_col3\" class=\"data row5 col3\" >0.66</td>\n",
       "      <td id=\"T_de66c_row5_col4\" class=\"data row5 col4\" >0.78</td>\n",
       "      <td id=\"T_de66c_row5_col5\" class=\"data row5 col5\" >nan</td>\n",
       "      <td id=\"T_de66c_row5_col6\" class=\"data row5 col6\" >nan</td>\n",
       "      <td id=\"T_de66c_row5_col7\" class=\"data row5 col7\" >nan</td>\n",
       "      <td id=\"T_de66c_row5_col8\" class=\"data row5 col8\" >nan</td>\n",
       "      <td id=\"T_de66c_row5_col9\" class=\"data row5 col9\" >nan</td>\n",
       "      <td id=\"T_de66c_row5_col10\" class=\"data row5 col10\" >nan</td>\n",
       "      <td id=\"T_de66c_row5_col11\" class=\"data row5 col11\" >nan</td>\n",
       "      <td id=\"T_de66c_row5_col12\" class=\"data row5 col12\" >nan</td>\n",
       "      <td id=\"T_de66c_row5_col13\" class=\"data row5 col13\" >nan</td>\n",
       "      <td id=\"T_de66c_row5_col14\" class=\"data row5 col14\" >nan</td>\n",
       "      <td id=\"T_de66c_row5_col15\" class=\"data row5 col15\" >nan</td>\n",
       "      <td id=\"T_de66c_row5_col16\" class=\"data row5 col16\" >nan</td>\n",
       "    </tr>\n",
       "    <tr>\n",
       "      <th id=\"T_de66c_level0_row6\" class=\"row_heading level0 row6\" >pay_status_5</th>\n",
       "      <td id=\"T_de66c_row6_col0\" class=\"data row6 col0\" >-0.25</td>\n",
       "      <td id=\"T_de66c_row6_col1\" class=\"data row6 col1\" >-0.06</td>\n",
       "      <td id=\"T_de66c_row6_col2\" class=\"data row6 col2\" >0.51</td>\n",
       "      <td id=\"T_de66c_row6_col3\" class=\"data row6 col3\" >0.62</td>\n",
       "      <td id=\"T_de66c_row6_col4\" class=\"data row6 col4\" >0.68</td>\n",
       "      <td id=\"T_de66c_row6_col5\" class=\"data row6 col5\" >0.82</td>\n",
       "      <td id=\"T_de66c_row6_col6\" class=\"data row6 col6\" >nan</td>\n",
       "      <td id=\"T_de66c_row6_col7\" class=\"data row6 col7\" >nan</td>\n",
       "      <td id=\"T_de66c_row6_col8\" class=\"data row6 col8\" >nan</td>\n",
       "      <td id=\"T_de66c_row6_col9\" class=\"data row6 col9\" >nan</td>\n",
       "      <td id=\"T_de66c_row6_col10\" class=\"data row6 col10\" >nan</td>\n",
       "      <td id=\"T_de66c_row6_col11\" class=\"data row6 col11\" >nan</td>\n",
       "      <td id=\"T_de66c_row6_col12\" class=\"data row6 col12\" >nan</td>\n",
       "      <td id=\"T_de66c_row6_col13\" class=\"data row6 col13\" >nan</td>\n",
       "      <td id=\"T_de66c_row6_col14\" class=\"data row6 col14\" >nan</td>\n",
       "      <td id=\"T_de66c_row6_col15\" class=\"data row6 col15\" >nan</td>\n",
       "      <td id=\"T_de66c_row6_col16\" class=\"data row6 col16\" >nan</td>\n",
       "    </tr>\n",
       "    <tr>\n",
       "      <th id=\"T_de66c_level0_row7\" class=\"row_heading level0 row7\" >bill_amount_1</th>\n",
       "      <td id=\"T_de66c_row7_col0\" class=\"data row7 col0\" >0.29</td>\n",
       "      <td id=\"T_de66c_row7_col1\" class=\"data row7 col1\" >0.06</td>\n",
       "      <td id=\"T_de66c_row7_col2\" class=\"data row7 col2\" >0.19</td>\n",
       "      <td id=\"T_de66c_row7_col3\" class=\"data row7 col3\" >0.24</td>\n",
       "      <td id=\"T_de66c_row7_col4\" class=\"data row7 col4\" >0.22</td>\n",
       "      <td id=\"T_de66c_row7_col5\" class=\"data row7 col5\" >0.21</td>\n",
       "      <td id=\"T_de66c_row7_col6\" class=\"data row7 col6\" >0.21</td>\n",
       "      <td id=\"T_de66c_row7_col7\" class=\"data row7 col7\" >nan</td>\n",
       "      <td id=\"T_de66c_row7_col8\" class=\"data row7 col8\" >nan</td>\n",
       "      <td id=\"T_de66c_row7_col9\" class=\"data row7 col9\" >nan</td>\n",
       "      <td id=\"T_de66c_row7_col10\" class=\"data row7 col10\" >nan</td>\n",
       "      <td id=\"T_de66c_row7_col11\" class=\"data row7 col11\" >nan</td>\n",
       "      <td id=\"T_de66c_row7_col12\" class=\"data row7 col12\" >nan</td>\n",
       "      <td id=\"T_de66c_row7_col13\" class=\"data row7 col13\" >nan</td>\n",
       "      <td id=\"T_de66c_row7_col14\" class=\"data row7 col14\" >nan</td>\n",
       "      <td id=\"T_de66c_row7_col15\" class=\"data row7 col15\" >nan</td>\n",
       "      <td id=\"T_de66c_row7_col16\" class=\"data row7 col16\" >nan</td>\n",
       "    </tr>\n",
       "    <tr>\n",
       "      <th id=\"T_de66c_level0_row8\" class=\"row_heading level0 row8\" >bill_amount_2</th>\n",
       "      <td id=\"T_de66c_row8_col0\" class=\"data row8 col0\" >0.29</td>\n",
       "      <td id=\"T_de66c_row8_col1\" class=\"data row8 col1\" >0.06</td>\n",
       "      <td id=\"T_de66c_row8_col2\" class=\"data row8 col2\" >0.19</td>\n",
       "      <td id=\"T_de66c_row8_col3\" class=\"data row8 col3\" >0.24</td>\n",
       "      <td id=\"T_de66c_row8_col4\" class=\"data row8 col4\" >0.25</td>\n",
       "      <td id=\"T_de66c_row8_col5\" class=\"data row8 col5\" >0.24</td>\n",
       "      <td id=\"T_de66c_row8_col6\" class=\"data row8 col6\" >0.23</td>\n",
       "      <td id=\"T_de66c_row8_col7\" class=\"data row8 col7\" >0.95</td>\n",
       "      <td id=\"T_de66c_row8_col8\" class=\"data row8 col8\" >nan</td>\n",
       "      <td id=\"T_de66c_row8_col9\" class=\"data row8 col9\" >nan</td>\n",
       "      <td id=\"T_de66c_row8_col10\" class=\"data row8 col10\" >nan</td>\n",
       "      <td id=\"T_de66c_row8_col11\" class=\"data row8 col11\" >nan</td>\n",
       "      <td id=\"T_de66c_row8_col12\" class=\"data row8 col12\" >nan</td>\n",
       "      <td id=\"T_de66c_row8_col13\" class=\"data row8 col13\" >nan</td>\n",
       "      <td id=\"T_de66c_row8_col14\" class=\"data row8 col14\" >nan</td>\n",
       "      <td id=\"T_de66c_row8_col15\" class=\"data row8 col15\" >nan</td>\n",
       "      <td id=\"T_de66c_row8_col16\" class=\"data row8 col16\" >nan</td>\n",
       "    </tr>\n",
       "    <tr>\n",
       "      <th id=\"T_de66c_level0_row9\" class=\"row_heading level0 row9\" >bill_amount_3</th>\n",
       "      <td id=\"T_de66c_row9_col0\" class=\"data row9 col0\" >0.29</td>\n",
       "      <td id=\"T_de66c_row9_col1\" class=\"data row9 col1\" >0.06</td>\n",
       "      <td id=\"T_de66c_row9_col2\" class=\"data row9 col2\" >0.18</td>\n",
       "      <td id=\"T_de66c_row9_col3\" class=\"data row9 col3\" >0.23</td>\n",
       "      <td id=\"T_de66c_row9_col4\" class=\"data row9 col4\" >0.24</td>\n",
       "      <td id=\"T_de66c_row9_col5\" class=\"data row9 col5\" >0.25</td>\n",
       "      <td id=\"T_de66c_row9_col6\" class=\"data row9 col6\" >0.25</td>\n",
       "      <td id=\"T_de66c_row9_col7\" class=\"data row9 col7\" >0.89</td>\n",
       "      <td id=\"T_de66c_row9_col8\" class=\"data row9 col8\" >0.93</td>\n",
       "      <td id=\"T_de66c_row9_col9\" class=\"data row9 col9\" >nan</td>\n",
       "      <td id=\"T_de66c_row9_col10\" class=\"data row9 col10\" >nan</td>\n",
       "      <td id=\"T_de66c_row9_col11\" class=\"data row9 col11\" >nan</td>\n",
       "      <td id=\"T_de66c_row9_col12\" class=\"data row9 col12\" >nan</td>\n",
       "      <td id=\"T_de66c_row9_col13\" class=\"data row9 col13\" >nan</td>\n",
       "      <td id=\"T_de66c_row9_col14\" class=\"data row9 col14\" >nan</td>\n",
       "      <td id=\"T_de66c_row9_col15\" class=\"data row9 col15\" >nan</td>\n",
       "      <td id=\"T_de66c_row9_col16\" class=\"data row9 col16\" >nan</td>\n",
       "    </tr>\n",
       "    <tr>\n",
       "      <th id=\"T_de66c_level0_row10\" class=\"row_heading level0 row10\" >bill_amount_4</th>\n",
       "      <td id=\"T_de66c_row10_col0\" class=\"data row10 col0\" >0.30</td>\n",
       "      <td id=\"T_de66c_row10_col1\" class=\"data row10 col1\" >0.06</td>\n",
       "      <td id=\"T_de66c_row10_col2\" class=\"data row10 col2\" >0.18</td>\n",
       "      <td id=\"T_de66c_row10_col3\" class=\"data row10 col3\" >0.23</td>\n",
       "      <td id=\"T_de66c_row10_col4\" class=\"data row10 col4\" >0.24</td>\n",
       "      <td id=\"T_de66c_row10_col5\" class=\"data row10 col5\" >0.25</td>\n",
       "      <td id=\"T_de66c_row10_col6\" class=\"data row10 col6\" >0.28</td>\n",
       "      <td id=\"T_de66c_row10_col7\" class=\"data row10 col7\" >0.86</td>\n",
       "      <td id=\"T_de66c_row10_col8\" class=\"data row10 col8\" >0.90</td>\n",
       "      <td id=\"T_de66c_row10_col9\" class=\"data row10 col9\" >0.92</td>\n",
       "      <td id=\"T_de66c_row10_col10\" class=\"data row10 col10\" >nan</td>\n",
       "      <td id=\"T_de66c_row10_col11\" class=\"data row10 col11\" >nan</td>\n",
       "      <td id=\"T_de66c_row10_col12\" class=\"data row10 col12\" >nan</td>\n",
       "      <td id=\"T_de66c_row10_col13\" class=\"data row10 col13\" >nan</td>\n",
       "      <td id=\"T_de66c_row10_col14\" class=\"data row10 col14\" >nan</td>\n",
       "      <td id=\"T_de66c_row10_col15\" class=\"data row10 col15\" >nan</td>\n",
       "      <td id=\"T_de66c_row10_col16\" class=\"data row10 col16\" >nan</td>\n",
       "    </tr>\n",
       "    <tr>\n",
       "      <th id=\"T_de66c_level0_row11\" class=\"row_heading level0 row11\" >bill_amount_5</th>\n",
       "      <td id=\"T_de66c_row11_col0\" class=\"data row11 col0\" >0.30</td>\n",
       "      <td id=\"T_de66c_row11_col1\" class=\"data row11 col1\" >0.06</td>\n",
       "      <td id=\"T_de66c_row11_col2\" class=\"data row11 col2\" >0.18</td>\n",
       "      <td id=\"T_de66c_row11_col3\" class=\"data row11 col3\" >0.23</td>\n",
       "      <td id=\"T_de66c_row11_col4\" class=\"data row11 col4\" >0.23</td>\n",
       "      <td id=\"T_de66c_row11_col5\" class=\"data row11 col5\" >0.25</td>\n",
       "      <td id=\"T_de66c_row11_col6\" class=\"data row11 col6\" >0.28</td>\n",
       "      <td id=\"T_de66c_row11_col7\" class=\"data row11 col7\" >0.83</td>\n",
       "      <td id=\"T_de66c_row11_col8\" class=\"data row11 col8\" >0.86</td>\n",
       "      <td id=\"T_de66c_row11_col9\" class=\"data row11 col9\" >0.88</td>\n",
       "      <td id=\"T_de66c_row11_col10\" class=\"data row11 col10\" >0.94</td>\n",
       "      <td id=\"T_de66c_row11_col11\" class=\"data row11 col11\" >nan</td>\n",
       "      <td id=\"T_de66c_row11_col12\" class=\"data row11 col12\" >nan</td>\n",
       "      <td id=\"T_de66c_row11_col13\" class=\"data row11 col13\" >nan</td>\n",
       "      <td id=\"T_de66c_row11_col14\" class=\"data row11 col14\" >nan</td>\n",
       "      <td id=\"T_de66c_row11_col15\" class=\"data row11 col15\" >nan</td>\n",
       "      <td id=\"T_de66c_row11_col16\" class=\"data row11 col16\" >nan</td>\n",
       "    </tr>\n",
       "    <tr>\n",
       "      <th id=\"T_de66c_level0_row12\" class=\"row_heading level0 row12\" >pay_amount_1</th>\n",
       "      <td id=\"T_de66c_row12_col0\" class=\"data row12 col0\" >0.19</td>\n",
       "      <td id=\"T_de66c_row12_col1\" class=\"data row12 col1\" >0.03</td>\n",
       "      <td id=\"T_de66c_row12_col2\" class=\"data row12 col2\" >-0.08</td>\n",
       "      <td id=\"T_de66c_row12_col3\" class=\"data row12 col3\" >-0.08</td>\n",
       "      <td id=\"T_de66c_row12_col4\" class=\"data row12 col4\" >0.01</td>\n",
       "      <td id=\"T_de66c_row12_col5\" class=\"data row12 col5\" >-0.01</td>\n",
       "      <td id=\"T_de66c_row12_col6\" class=\"data row12 col6\" >-0.00</td>\n",
       "      <td id=\"T_de66c_row12_col7\" class=\"data row12 col7\" >0.14</td>\n",
       "      <td id=\"T_de66c_row12_col8\" class=\"data row12 col8\" >0.28</td>\n",
       "      <td id=\"T_de66c_row12_col9\" class=\"data row12 col9\" >0.23</td>\n",
       "      <td id=\"T_de66c_row12_col10\" class=\"data row12 col10\" >0.23</td>\n",
       "      <td id=\"T_de66c_row12_col11\" class=\"data row12 col11\" >0.21</td>\n",
       "      <td id=\"T_de66c_row12_col12\" class=\"data row12 col12\" >nan</td>\n",
       "      <td id=\"T_de66c_row12_col13\" class=\"data row12 col13\" >nan</td>\n",
       "      <td id=\"T_de66c_row12_col14\" class=\"data row12 col14\" >nan</td>\n",
       "      <td id=\"T_de66c_row12_col15\" class=\"data row12 col15\" >nan</td>\n",
       "      <td id=\"T_de66c_row12_col16\" class=\"data row12 col16\" >nan</td>\n",
       "    </tr>\n",
       "    <tr>\n",
       "      <th id=\"T_de66c_level0_row13\" class=\"row_heading level0 row13\" >pay_amount_2</th>\n",
       "      <td id=\"T_de66c_row13_col0\" class=\"data row13 col0\" >0.17</td>\n",
       "      <td id=\"T_de66c_row13_col1\" class=\"data row13 col1\" >0.02</td>\n",
       "      <td id=\"T_de66c_row13_col2\" class=\"data row13 col2\" >-0.06</td>\n",
       "      <td id=\"T_de66c_row13_col3\" class=\"data row13 col3\" >-0.06</td>\n",
       "      <td id=\"T_de66c_row13_col4\" class=\"data row13 col4\" >-0.06</td>\n",
       "      <td id=\"T_de66c_row13_col5\" class=\"data row13 col5\" >0.00</td>\n",
       "      <td id=\"T_de66c_row13_col6\" class=\"data row13 col6\" >-0.00</td>\n",
       "      <td id=\"T_de66c_row13_col7\" class=\"data row13 col7\" >0.10</td>\n",
       "      <td id=\"T_de66c_row13_col8\" class=\"data row13 col8\" >0.09</td>\n",
       "      <td id=\"T_de66c_row13_col9\" class=\"data row13 col9\" >0.32</td>\n",
       "      <td id=\"T_de66c_row13_col10\" class=\"data row13 col10\" >0.20</td>\n",
       "      <td id=\"T_de66c_row13_col11\" class=\"data row13 col11\" >0.18</td>\n",
       "      <td id=\"T_de66c_row13_col12\" class=\"data row13 col12\" >0.26</td>\n",
       "      <td id=\"T_de66c_row13_col13\" class=\"data row13 col13\" >nan</td>\n",
       "      <td id=\"T_de66c_row13_col14\" class=\"data row13 col14\" >nan</td>\n",
       "      <td id=\"T_de66c_row13_col15\" class=\"data row13 col15\" >nan</td>\n",
       "      <td id=\"T_de66c_row13_col16\" class=\"data row13 col16\" >nan</td>\n",
       "    </tr>\n",
       "    <tr>\n",
       "      <th id=\"T_de66c_level0_row14\" class=\"row_heading level0 row14\" >pay_amount_3</th>\n",
       "      <td id=\"T_de66c_row14_col0\" class=\"data row14 col0\" >0.21</td>\n",
       "      <td id=\"T_de66c_row14_col1\" class=\"data row14 col1\" >0.03</td>\n",
       "      <td id=\"T_de66c_row14_col2\" class=\"data row14 col2\" >-0.07</td>\n",
       "      <td id=\"T_de66c_row14_col3\" class=\"data row14 col3\" >-0.06</td>\n",
       "      <td id=\"T_de66c_row14_col4\" class=\"data row14 col4\" >-0.05</td>\n",
       "      <td id=\"T_de66c_row14_col5\" class=\"data row14 col5\" >-0.07</td>\n",
       "      <td id=\"T_de66c_row14_col6\" class=\"data row14 col6\" >0.01</td>\n",
       "      <td id=\"T_de66c_row14_col7\" class=\"data row14 col7\" >0.14</td>\n",
       "      <td id=\"T_de66c_row14_col8\" class=\"data row14 col8\" >0.14</td>\n",
       "      <td id=\"T_de66c_row14_col9\" class=\"data row14 col9\" >0.12</td>\n",
       "      <td id=\"T_de66c_row14_col10\" class=\"data row14 col10\" >0.28</td>\n",
       "      <td id=\"T_de66c_row14_col11\" class=\"data row14 col11\" >0.24</td>\n",
       "      <td id=\"T_de66c_row14_col12\" class=\"data row14 col12\" >0.30</td>\n",
       "      <td id=\"T_de66c_row14_col13\" class=\"data row14 col13\" >0.27</td>\n",
       "      <td id=\"T_de66c_row14_col14\" class=\"data row14 col14\" >nan</td>\n",
       "      <td id=\"T_de66c_row14_col15\" class=\"data row14 col15\" >nan</td>\n",
       "      <td id=\"T_de66c_row14_col16\" class=\"data row14 col16\" >nan</td>\n",
       "    </tr>\n",
       "    <tr>\n",
       "      <th id=\"T_de66c_level0_row15\" class=\"row_heading level0 row15\" >pay_amount_4</th>\n",
       "      <td id=\"T_de66c_row15_col0\" class=\"data row15 col0\" >0.21</td>\n",
       "      <td id=\"T_de66c_row15_col1\" class=\"data row15 col1\" >0.02</td>\n",
       "      <td id=\"T_de66c_row15_col2\" class=\"data row15 col2\" >-0.07</td>\n",
       "      <td id=\"T_de66c_row15_col3\" class=\"data row15 col3\" >-0.05</td>\n",
       "      <td id=\"T_de66c_row15_col4\" class=\"data row15 col4\" >-0.04</td>\n",
       "      <td id=\"T_de66c_row15_col5\" class=\"data row15 col5\" >-0.04</td>\n",
       "      <td id=\"T_de66c_row15_col6\" class=\"data row15 col6\" >-0.06</td>\n",
       "      <td id=\"T_de66c_row15_col7\" class=\"data row15 col7\" >0.15</td>\n",
       "      <td id=\"T_de66c_row15_col8\" class=\"data row15 col8\" >0.14</td>\n",
       "      <td id=\"T_de66c_row15_col9\" class=\"data row15 col9\" >0.13</td>\n",
       "      <td id=\"T_de66c_row15_col10\" class=\"data row15 col10\" >0.12</td>\n",
       "      <td id=\"T_de66c_row15_col11\" class=\"data row15 col11\" >0.29</td>\n",
       "      <td id=\"T_de66c_row15_col12\" class=\"data row15 col12\" >0.22</td>\n",
       "      <td id=\"T_de66c_row15_col13\" class=\"data row15 col13\" >0.21</td>\n",
       "      <td id=\"T_de66c_row15_col14\" class=\"data row15 col14\" >0.24</td>\n",
       "      <td id=\"T_de66c_row15_col15\" class=\"data row15 col15\" >nan</td>\n",
       "      <td id=\"T_de66c_row15_col16\" class=\"data row15 col16\" >nan</td>\n",
       "    </tr>\n",
       "    <tr>\n",
       "      <th id=\"T_de66c_level0_row16\" class=\"row_heading level0 row16\" >pay_amount_5</th>\n",
       "      <td id=\"T_de66c_row16_col0\" class=\"data row16 col0\" >0.22</td>\n",
       "      <td id=\"T_de66c_row16_col1\" class=\"data row16 col1\" >0.03</td>\n",
       "      <td id=\"T_de66c_row16_col2\" class=\"data row16 col2\" >-0.06</td>\n",
       "      <td id=\"T_de66c_row16_col3\" class=\"data row16 col3\" >-0.04</td>\n",
       "      <td id=\"T_de66c_row16_col4\" class=\"data row16 col4\" >-0.03</td>\n",
       "      <td id=\"T_de66c_row16_col5\" class=\"data row16 col5\" >-0.03</td>\n",
       "      <td id=\"T_de66c_row16_col6\" class=\"data row16 col6\" >-0.03</td>\n",
       "      <td id=\"T_de66c_row16_col7\" class=\"data row16 col7\" >0.17</td>\n",
       "      <td id=\"T_de66c_row16_col8\" class=\"data row16 col8\" >0.15</td>\n",
       "      <td id=\"T_de66c_row16_col9\" class=\"data row16 col9\" >0.18</td>\n",
       "      <td id=\"T_de66c_row16_col10\" class=\"data row16 col10\" >0.15</td>\n",
       "      <td id=\"T_de66c_row16_col11\" class=\"data row16 col11\" >0.14</td>\n",
       "      <td id=\"T_de66c_row16_col12\" class=\"data row16 col12\" >0.14</td>\n",
       "      <td id=\"T_de66c_row16_col13\" class=\"data row16 col13\" >0.19</td>\n",
       "      <td id=\"T_de66c_row16_col14\" class=\"data row16 col14\" >0.17</td>\n",
       "      <td id=\"T_de66c_row16_col15\" class=\"data row16 col15\" >0.15</td>\n",
       "      <td id=\"T_de66c_row16_col16\" class=\"data row16 col16\" >nan</td>\n",
       "    </tr>\n",
       "  </tbody>\n",
       "</table>\n"
      ],
      "text/plain": [
       "<pandas.io.formats.style.Styler at 0x1326f8090f0>"
      ]
     },
     "execution_count": 15,
     "metadata": {},
     "output_type": "execute_result"
    }
   ],
   "source": [
    "corr = df[num_cols].corr()\n",
    "#cor_value.style.background_gradient(cmap='coolwarm')\n",
    "# Fill diagonal and upper half with NaNs\n",
    "mask = np.zeros_like(corr, dtype=bool)\n",
    "mask[np.triu_indices_from(mask)] = True\n",
    "corr[mask] = np.nan\n",
    "(corr\n",
    " .style\n",
    " .background_gradient(cmap='coolwarm', axis=None, vmin=-1, vmax=1)\n",
    " .highlight_null(null_color='#f1f1f1')  # Color NaNs grey\n",
    " .format(precision = 2))"
   ]
  },
  {
   "cell_type": "markdown",
   "id": "4d86607f",
   "metadata": {},
   "source": [
    "> bill amounts are highly correlated with each other. On the next level, every consecutive pair of pay_status_i  are also correlated with each other."
   ]
  },
  {
   "cell_type": "code",
   "execution_count": 16,
   "id": "dc0c72bc",
   "metadata": {},
   "outputs": [
    {
     "data": {
      "text/html": [
       "<div>\n",
       "<style scoped>\n",
       "    .dataframe tbody tr th:only-of-type {\n",
       "        vertical-align: middle;\n",
       "    }\n",
       "\n",
       "    .dataframe tbody tr th {\n",
       "        vertical-align: top;\n",
       "    }\n",
       "\n",
       "    .dataframe thead th {\n",
       "        text-align: right;\n",
       "    }\n",
       "</style>\n",
       "<table border=\"1\" class=\"dataframe\">\n",
       "  <thead>\n",
       "    <tr style=\"text-align: right;\">\n",
       "      <th></th>\n",
       "      <th>ID</th>\n",
       "      <th>credit_limit</th>\n",
       "      <th>age</th>\n",
       "      <th>pay_status_1</th>\n",
       "      <th>pay_status_2</th>\n",
       "      <th>pay_status_3</th>\n",
       "      <th>pay_status_4</th>\n",
       "      <th>pay_status_5</th>\n",
       "      <th>bill_amount_1</th>\n",
       "      <th>bill_amount_2</th>\n",
       "      <th>bill_amount_3</th>\n",
       "      <th>bill_amount_4</th>\n",
       "      <th>bill_amount_5</th>\n",
       "      <th>pay_amount_1</th>\n",
       "      <th>pay_amount_2</th>\n",
       "      <th>pay_amount_3</th>\n",
       "      <th>pay_amount_4</th>\n",
       "      <th>pay_amount_5</th>\n",
       "    </tr>\n",
       "    <tr>\n",
       "      <th>Default</th>\n",
       "      <th></th>\n",
       "      <th></th>\n",
       "      <th></th>\n",
       "      <th></th>\n",
       "      <th></th>\n",
       "      <th></th>\n",
       "      <th></th>\n",
       "      <th></th>\n",
       "      <th></th>\n",
       "      <th></th>\n",
       "      <th></th>\n",
       "      <th></th>\n",
       "      <th></th>\n",
       "      <th></th>\n",
       "      <th></th>\n",
       "      <th></th>\n",
       "      <th></th>\n",
       "      <th></th>\n",
       "    </tr>\n",
       "  </thead>\n",
       "  <tbody>\n",
       "    <tr>\n",
       "      <th>0</th>\n",
       "      <td>19977.346477</td>\n",
       "      <td>177871.837894</td>\n",
       "      <td>36.418301</td>\n",
       "      <td>-0.205472</td>\n",
       "      <td>-0.303433</td>\n",
       "      <td>-0.319824</td>\n",
       "      <td>-0.357060</td>\n",
       "      <td>-0.391972</td>\n",
       "      <td>52408.648232</td>\n",
       "      <td>50089.398877</td>\n",
       "      <td>47843.682499</td>\n",
       "      <td>43845.768456</td>\n",
       "      <td>40859.523361</td>\n",
       "      <td>6366.695405</td>\n",
       "      <td>6548.245289</td>\n",
       "      <td>5688.543172</td>\n",
       "      <td>5437.977607</td>\n",
       "      <td>5338.766714</td>\n",
       "    </tr>\n",
       "    <tr>\n",
       "      <th>1</th>\n",
       "      <td>20075.719139</td>\n",
       "      <td>130748.223801</td>\n",
       "      <td>36.733126</td>\n",
       "      <td>0.658304</td>\n",
       "      <td>0.434281</td>\n",
       "      <td>0.349245</td>\n",
       "      <td>0.242673</td>\n",
       "      <td>0.158748</td>\n",
       "      <td>48856.618561</td>\n",
       "      <td>47806.209369</td>\n",
       "      <td>45789.014876</td>\n",
       "      <td>42441.404973</td>\n",
       "      <td>39988.317940</td>\n",
       "      <td>3480.064831</td>\n",
       "      <td>3535.235790</td>\n",
       "      <td>3392.924067</td>\n",
       "      <td>3092.736234</td>\n",
       "      <td>3249.658970</td>\n",
       "    </tr>\n",
       "  </tbody>\n",
       "</table>\n",
       "</div>"
      ],
      "text/plain": [
       "                   ID   credit_limit        age  pay_status_1  pay_status_2  \\\n",
       "Default                                                                       \n",
       "0        19977.346477  177871.837894  36.418301     -0.205472     -0.303433   \n",
       "1        20075.719139  130748.223801  36.733126      0.658304      0.434281   \n",
       "\n",
       "         pay_status_3  pay_status_4  pay_status_5  bill_amount_1  \\\n",
       "Default                                                            \n",
       "0           -0.319824     -0.357060     -0.391972   52408.648232   \n",
       "1            0.349245      0.242673      0.158748   48856.618561   \n",
       "\n",
       "         bill_amount_2  bill_amount_3  bill_amount_4  bill_amount_5  \\\n",
       "Default                                                               \n",
       "0         50089.398877   47843.682499   43845.768456   40859.523361   \n",
       "1         47806.209369   45789.014876   42441.404973   39988.317940   \n",
       "\n",
       "         pay_amount_1  pay_amount_2  pay_amount_3  pay_amount_4  pay_amount_5  \n",
       "Default                                                                        \n",
       "0         6366.695405   6548.245289   5688.543172   5437.977607   5338.766714  \n",
       "1         3480.064831   3535.235790   3392.924067   3092.736234   3249.658970  "
      ]
     },
     "execution_count": 16,
     "metadata": {},
     "output_type": "execute_result"
    }
   ],
   "source": [
    "df.groupby(\"Default\").mean()"
   ]
  },
  {
   "cell_type": "markdown",
   "id": "bf6ac211",
   "metadata": {},
   "source": []
  },
  {
   "cell_type": "markdown",
   "id": "801b5473",
   "metadata": {},
   "source": [
    "## Categorical Variables"
   ]
  },
  {
   "cell_type": "code",
   "execution_count": 17,
   "id": "0fa066c8",
   "metadata": {
    "scrolled": false
   },
   "outputs": [
    {
     "data": {
      "image/png": "[encoded data removed]",
      "text/plain": [
       "<Figure size 432x288 with 1 Axes>"
      ]
     },
     "metadata": {
      "needs_background": "light"
     },
     "output_type": "display_data"
    }
   ],
   "source": [
    "ax3 = sns.countplot(x=\"education\", hue=\"Default\", data=df, palette=\"Blues\")\n",
    "plt.show()"
   ]
  },
  {
   "cell_type": "code",
   "execution_count": 18,
   "id": "dea0db3e",
   "metadata": {
    "scrolled": false
   },
   "outputs": [
    {
     "data": {
      "image/png": "[encoded data removed]",
      "text/plain": [
       "<Figure size 432x288 with 1 Axes>"
      ]
     },
     "metadata": {
      "needs_background": "light"
     },
     "output_type": "display_data"
    }
   ],
   "source": [
    "ax3 = sns.countplot(x=\"card_type\", hue=\"Default\", data=df, palette=\"Blues\")\n",
    "plt.show()"
   ]
  },
  {
   "cell_type": "code",
   "execution_count": 19,
   "id": "3a87c193",
   "metadata": {},
   "outputs": [
    {
     "data": {
      "text/plain": [
       "Index(['ID', 'credit_limit', 'card_type', 'gender', 'education', 'age',\n",
       "       'pay_status_1', 'pay_status_2', 'pay_status_3', 'pay_status_4',\n",
       "       'pay_status_5', 'bill_amount_1', 'bill_amount_2', 'bill_amount_3',\n",
       "       'bill_amount_4', 'bill_amount_5', 'pay_amount_1', 'pay_amount_2',\n",
       "       'pay_amount_3', 'pay_amount_4', 'pay_amount_5', 'Default'],\n",
       "      dtype='object')"
      ]
     },
     "execution_count": 19,
     "metadata": {},
     "output_type": "execute_result"
    }
   ],
   "source": [
    "df.columns"
   ]
  },
  {
   "cell_type": "code",
   "execution_count": 20,
   "id": "1e35a3e8",
   "metadata": {
    "scrolled": true
   },
   "outputs": [],
   "source": [
    "#sns.pairplot(df.drop(\"ID\", axis = 1).iloc[:1000,], hue='Default')\n"
   ]
  },
  {
   "cell_type": "code",
   "execution_count": 21,
   "id": "93652575",
   "metadata": {},
   "outputs": [
    {
     "ename": "SyntaxError",
     "evalue": "invalid syntax (Temp/ipykernel_15680/1118962691.py, line 1)",
     "output_type": "error",
     "traceback": [
      "\u001b[1;36m  File \u001b[1;32m\"C:\\Users\\FARAZA~1\\AppData\\Local\\Temp/ipykernel_15680/1118962691.py\"\u001b[1;36m, line \u001b[1;32m1\u001b[0m\n\u001b[1;33m    sns.\u001b[0m\n\u001b[1;37m        ^\u001b[0m\n\u001b[1;31mSyntaxError\u001b[0m\u001b[1;31m:\u001b[0m invalid syntax\n"
     ]
    }
   ],
   "source": [
    "sns."
   ]
  },
  {
   "cell_type": "markdown",
   "id": "40c9a3b9",
   "metadata": {},
   "source": [
    "## Feature Importance - Mutual Information "
   ]
  },
  {
   "cell_type": "code",
   "execution_count": null,
   "id": "381ca40a",
   "metadata": {},
   "outputs": [],
   "source": [
    "df.education.value_counts()"
   ]
  },
  {
   "cell_type": "code",
   "execution_count": null,
   "id": "aa8e919b",
   "metadata": {
    "scrolled": true
   },
   "outputs": [],
   "source": [
    "edf, _ = df.card_type.factorize()\n",
    "\n",
    "pd.Series(edf).value_counts()"
   ]
  },
  {
   "cell_type": "markdown",
   "id": "9da21392",
   "metadata": {},
   "source": [
    "> __From Kaggle [courses](https://www.kaggle.com/ryanholbrook/mutual-information)__: The scikit-learn algorithm for MI treats discrete features differently from continuous features. Consequently, you need to tell it which are which. As a rule of thumb, anything that must have a float dtype is not discrete. Categoricals (object or categorial dtype) can be treated as discrete by giving them a label encoding (as we have in our data)."
   ]
  },
  {
   "cell_type": "code",
   "execution_count": 25,
   "id": "7f225d4f",
   "metadata": {
    "scrolled": true
   },
   "outputs": [
    {
     "name": "stdout",
     "output_type": "stream",
     "text": [
      "<class 'pandas.core.frame.DataFrame'>\n",
      "RangeIndex: 20000 entries, 0 to 19999\n",
      "Data columns (total 20 columns):\n",
      " #   Column         Non-Null Count  Dtype\n",
      "---  ------         --------------  -----\n",
      " 0   credit_limit   20000 non-null  int64\n",
      " 1   card_type      20000 non-null  int64\n",
      " 2   gender         20000 non-null  int64\n",
      " 3   education      20000 non-null  int64\n",
      " 4   age            20000 non-null  int64\n",
      " 5   pay_status_1   20000 non-null  int64\n",
      " 6   pay_status_2   20000 non-null  int64\n",
      " 7   pay_status_3   20000 non-null  int64\n",
      " 8   pay_status_4   20000 non-null  int64\n",
      " 9   pay_status_5   20000 non-null  int64\n",
      " 10  bill_amount_1  20000 non-null  int64\n",
      " 11  bill_amount_2  20000 non-null  int64\n",
      " 12  bill_amount_3  20000 non-null  int64\n",
      " 13  bill_amount_4  20000 non-null  int64\n",
      " 14  bill_amount_5  20000 non-null  int64\n",
      " 15  pay_amount_1   20000 non-null  int64\n",
      " 16  pay_amount_2   20000 non-null  int64\n",
      " 17  pay_amount_3   20000 non-null  int64\n",
      " 18  pay_amount_4   20000 non-null  int64\n",
      " 19  pay_amount_5   20000 non-null  int64\n",
      "dtypes: int64(20)\n",
      "memory usage: 3.1 MB\n"
     ]
    }
   ],
   "source": [
    "X = df.drop([\"ID\"] ,axis = 1)\n",
    "y = X.pop(\"Default\")\n",
    "\n",
    "#This may seem like a redo but it was important to have these columns as categorical in the EDA and visualizations\n",
    "for col in X.select_dtypes(\"category\"):\n",
    "    X[col], _ = X[col].factorize()\n",
    "\n",
    "#now all features are integers (numbers)\n",
    "X.info()"
   ]
  },
  {
   "cell_type": "code",
   "execution_count": 26,
   "id": "06ec8e96",
   "metadata": {
    "scrolled": true
   },
   "outputs": [],
   "source": [
    "#marking the discrete (non-continous) features\n",
    "# again because of the ordinal nature pay_status_i vars, they are mark as non-discrete\n",
    "discrete_features = X.dtypes != \"int64\"\n",
    "discrete_features[cat_cols] = True\n",
    "#discrete_features[discrete_features.index.str.startswith(\"pay_status\")] = True ##This doesn't affect the MI scores in our case"
   ]
  },
  {
   "cell_type": "code",
   "execution_count": 27,
   "id": "c4935b75",
   "metadata": {},
   "outputs": [
    {
     "data": {
      "text/plain": [
       "pay_status_1     0.075703\n",
       "pay_status_2     0.051033\n",
       "pay_status_3     0.037859\n",
       "pay_status_4     0.036976\n",
       "pay_status_5     0.030538\n",
       "pay_amount_1     0.022804\n",
       "pay_amount_2     0.016541\n",
       "pay_amount_5     0.015305\n",
       "pay_amount_3     0.014507\n",
       "credit_limit     0.012897\n",
       "pay_amount_4     0.012739\n",
       "bill_amount_1    0.007351\n",
       "bill_amount_4    0.006903\n",
       "education        0.006705\n",
       "bill_amount_5    0.005637\n",
       "bill_amount_2    0.005178\n",
       "age              0.003777\n",
       "card_type        0.003499\n",
       "bill_amount_3    0.002781\n",
       "gender           0.000000\n",
       "Name: MI Scores, dtype: float64"
      ]
     },
     "execution_count": 27,
     "metadata": {},
     "output_type": "execute_result"
    }
   ],
   "source": [
    "from sklearn.feature_selection import mutual_info_classif\n",
    "\n",
    "\n",
    "def make_mi_scores(X, y, discrete_features):\n",
    "    mi_scores = mutual_info_classif(X, y)\n",
    "    mi_scores = pd.Series(mi_scores, name=\"MI Scores\", index=X.columns)\n",
    "    mi_scores = mi_scores.sort_values(ascending=False)\n",
    "    return mi_scores\n",
    "\n",
    "mi_scores = make_mi_scores(X, y, discrete_features)\n",
    "mi_scores  # show a few features with their MI scores"
   ]
  },
  {
   "cell_type": "code",
   "execution_count": 28,
   "id": "ca94ec8d",
   "metadata": {
    "scrolled": true
   },
   "outputs": [
    {
     "data": {
      "image/png": "[encoded data removed]",
      "text/plain": [
       "<Figure size 800x500 with 1 Axes>"
      ]
     },
     "metadata": {},
     "output_type": "display_data"
    }
   ],
   "source": [
    "def plot_mi_scores(scores):\n",
    "    scores = scores.sort_values(ascending=True)\n",
    "    width = np.arange(len(scores))\n",
    "    ticks = list(scores.index)\n",
    "    plt.barh(width, scores)\n",
    "    plt.yticks(width, ticks)\n",
    "    plt.title(\"Mutual Information Scores\")\n",
    "\n",
    "\n",
    "plt.figure(dpi=100, figsize=(8, 5))\n",
    "plot_mi_scores(mi_scores)"
   ]
  },
  {
   "cell_type": "markdown",
   "id": "03b51f58",
   "metadata": {},
   "source": [
    ">  __Important Note: MI method is univariate and does not take correlation among features into account. Therefore, before building the model, collinearity must be addressed.__"
   ]
  },
  {
   "cell_type": "markdown",
   "id": "f04d8244",
   "metadata": {},
   "source": [
    "# XGBoost to predict credit card default"
   ]
  },
  {
   "cell_type": "code",
   "execution_count": 29,
   "id": "63470a95",
   "metadata": {},
   "outputs": [],
   "source": [
    "plt.style.use('ggplot') # nice plots\n",
    "\n",
    "from sklearn.model_selection import train_test_split # to split the data into two parts\n",
    "from sklearn.feature_selection import RFE\n",
    "from sklearn.model_selection import KFold # for cross validation\n",
    "from sklearn.model_selection import GridSearchCV # for tuning parameter\n",
    "from sklearn.model_selection import RandomizedSearchCV  # Randomized search on hyper parameters.\n",
    "import xgboost as xgb\n",
    "\n",
    "from xgboost import XGBClassifier\n",
    "from sklearn.model_selection import cross_val_score\n",
    "from sklearn.metrics import classification_report, confusion_matrix, accuracy_score\n",
    "from sklearn.feature_selection import SelectFromModel\n",
    "from sklearn import metrics # for the check the error and accuracy of the model\n",
    "\n",
    "import matplotlib.pyplot as plt"
   ]
  },
  {
   "cell_type": "code",
   "execution_count": 30,
   "id": "2bf61f91",
   "metadata": {},
   "outputs": [],
   "source": [
    "x_train, x_test, y_train, y_test = train_test_split(X, y, test_size=0.2, random_state=123)"
   ]
  },
  {
   "cell_type": "markdown",
   "id": "4b3c1f2c",
   "metadata": {},
   "source": [
    "## A simple model to begin with"
   ]
  },
  {
   "cell_type": "code",
   "execution_count": 31,
   "id": "0e0d9134",
   "metadata": {
    "scrolled": true
   },
   "outputs": [
    {
     "data": {
      "text/plain": [
       "XGBClassifier(base_score=0.5, booster='gbtree', colsample_bylevel=1,\n",
       "              colsample_bynode=1, colsample_bytree=0.8,\n",
       "              enable_categorical=False, eval_metric='auc', gamma=0, gpu_id=-1,\n",
       "              importance_type=None, interaction_constraints='',\n",
       "              learning_rate=0.05, max_delta_step=0, max_depth=6,\n",
       "              min_child_weight=1, missing=nan, monotone_constraints='()',\n",
       "              n_estimators=500, n_jobs=4, num_parallel_tree=1, predictor='auto',\n",
       "              random_state=27, reg_alpha=0, reg_lambda=1, scale_pos_weight=1,\n",
       "              seed=27, subsample=0.8, tree_method='exact',\n",
       "              validate_parameters=1, verbosity=None)"
      ]
     },
     "execution_count": 31,
     "metadata": {},
     "output_type": "execute_result"
    }
   ],
   "source": [
    "params = {\n",
    "        \"n_jobs\": 4,\n",
    "        \"learning_rate\": 0.05,\n",
    "        \"eval_metric\": \"auc\",\n",
    "        \"max_depth\" : 6,\n",
    "        \"n_estimators\":500,\n",
    "       # \"min_child_weight\":1,\n",
    "      # \"gamma\":0,\n",
    "        \"subsample\":0.8,\n",
    "        \"colsample_bytree\":0.8,\n",
    "        \"objective\": 'binary:logistic',\n",
    "        #\"scale_pos_weight\":1,\n",
    "        \"seed\":27\n",
    "}\n",
    "\n",
    "eval_set = [(x_train, y_train), (x_test, y_test)]\n",
    "myModel = XGBClassifier(**params)\n",
    "\n",
    "myModel.fit(x_train, y_train, eval_metric=[\"auc\", \"aucpr\", \"error\", \"logloss\"], eval_set=eval_set, verbose=False)"
   ]
  },
  {
   "cell_type": "code",
   "execution_count": 32,
   "id": "77b6b003",
   "metadata": {
    "scrolled": true
   },
   "outputs": [
    {
     "name": "stdout",
     "output_type": "stream",
     "text": [
      "Total Accuracy: 80.67%\n"
     ]
    },
    {
     "data": {
      "image/png": "[encoded data removed]",
      "text/plain": [
       "<Figure size 720x576 with 4 Axes>"
      ]
     },
     "metadata": {},
     "output_type": "display_data"
    }
   ],
   "source": [
    "y_pred = myModel.predict_proba(x_test)[:,1] #gives \n",
    "predictions = [round(value) for value in y_pred] #this gives label w 0.5 threshold\n",
    "\n",
    "# evaluate predictions\n",
    "accuracy = accuracy_score(y_test, predictions)\n",
    "print(\"Total Accuracy: %.2f%%\" % (accuracy * 100.0))\n",
    "# retrieve performance metrics\n",
    "results = myModel.evals_result()\n",
    "epochs = len(results['validation_0']['error'])\n",
    "x_axis = range(0, epochs)\n",
    "\n",
    "# plot log loss\n",
    "fig, ((ax1, ax2), (ax3, ax4)) = plt.subplots(nrows=2, ncols=2, figsize=(10,8))\n",
    "ax1.plot(x_axis, results['validation_0']['logloss'], label='Train')\n",
    "ax1.plot(x_axis, results['validation_1']['logloss'], label='Test')\n",
    "ax1.legend()\n",
    "ax1.set_ylabel(\"XGBoost Log Loss\")\n",
    "\n",
    "ax2.plot(x_axis, results['validation_0']['error'], label='Train')\n",
    "ax2.plot(x_axis, results['validation_1']['error'], label='Test')\n",
    "ax2.legend()\n",
    "ax2.set_ylabel('Classification Error')\n",
    "#plt.title('XGBoost Classification Error')\n",
    "\n",
    "ax3.plot(x_axis, results['validation_0']['auc'], label='Train')\n",
    "ax3.plot(x_axis, results['validation_1']['auc'], label='Test')\n",
    "ax3.legend()\n",
    "ax3.set_ylabel('AUC')\n",
    "\n",
    "ax4.plot(x_axis, results['validation_0']['aucpr'], label='Train')\n",
    "ax4.plot(x_axis, results['validation_1']['aucpr'], label='Test')\n",
    "ax4.legend()\n",
    "ax4.set_ylabel('AUCPR')\n",
    "fig.suptitle(\"Performance of train-test sets over all epochs\")\n",
    "plt.show()"
   ]
  },
  {
   "cell_type": "markdown",
   "id": "6283e132",
   "metadata": {},
   "source": [
    "> This clearly shows that the model has overfitted after all 500 epochs, therefore we need to add a stopping criteria"
   ]
  },
  {
   "cell_type": "code",
   "execution_count": 29,
   "id": "6e865d98",
   "metadata": {
    "scrolled": false
   },
   "outputs": [
    {
     "name": "stdout",
     "output_type": "stream",
     "text": [
      "0    0.8695\n",
      "1    0.1305\n",
      "Name: label, dtype: float64\n"
     ]
    },
    {
     "data": {
      "image/png": "[encoded data removed]",
      "text/plain": [
       "<Figure size 432x288 with 1 Axes>"
      ]
     },
     "metadata": {},
     "output_type": "display_data"
    }
   ],
   "source": [
    "_x = pd.DataFrame({\"label\" : predictions, \"prob\":y_pred})\n",
    "print(_x.label.value_counts(normalize=True))\n",
    "\n",
    "_x.prob.hist(bins = 20)\n",
    "plt.title(\"Skewness of predicted probs in model\")\n",
    "plt.show()"
   ]
  },
  {
   "cell_type": "code",
   "execution_count": 176,
   "id": "ee8664b7",
   "metadata": {
    "scrolled": false
   },
   "outputs": [
    {
     "data": {
      "image/png": "[encoded data removed]",
      "text/plain": [
       "<Figure size 432x288 with 1 Axes>"
      ]
     },
     "metadata": {},
     "output_type": "display_data"
    }
   ],
   "source": [
    "\n",
    "fpr, tpr, thresholds = metrics.roc_curve(y_test, y_pred)\n",
    "roc_auc = metrics.auc(fpr, tpr)\n",
    "display = metrics.RocCurveDisplay(fpr=fpr, tpr=tpr, roc_auc=roc_auc,\n",
    "                                  estimator_name='XGBOOST estimator')\n",
    "display.plot()\n",
    "plt.title(\"ROC on test set\")\n",
    "plt.show()"
   ]
  },
  {
   "cell_type": "markdown",
   "id": "6518a375",
   "metadata": {},
   "source": [
    "### Threshold for predicted labels"
   ]
  },
  {
   "cell_type": "markdown",
   "id": "07ff9f54",
   "metadata": {},
   "source": [
    "In imbalanced data sets, setting the right threshold is an important decision. Below we can change the cut-off threshold for predicted probabilities and see how it changes the confusion matrix."
   ]
  },
  {
   "cell_type": "code",
   "execution_count": 182,
   "id": "5b20e273",
   "metadata": {},
   "outputs": [
    {
     "data": {
      "text/plain": [
       "0.6443594646271511"
      ]
     },
     "execution_count": 182,
     "metadata": {},
     "output_type": "execute_result"
    }
   ],
   "source": [
    "\n",
    "thr = 0.5\n",
    "y_pred_labeled = np.where(y_pred > thr, 1, 0)\n",
    "metrics.precision_score(y_test, y_pred_labeled)"
   ]
  },
  {
   "cell_type": "code",
   "execution_count": 183,
   "id": "472fb413",
   "metadata": {
    "scrolled": true
   },
   "outputs": [
    {
     "data": {
      "image/png": "[encoded data removed]",
      "text/plain": [
       "<Figure size 576x432 with 2 Axes>"
      ]
     },
     "metadata": {},
     "output_type": "display_data"
    }
   ],
   "source": [
    "plt.figure(figsize=(8,6))\n",
    "ConfMatrix = confusion_matrix(y_test,y_pred_labeled)\n",
    "sns.heatmap(ConfMatrix,annot=True, cmap=\"Blues\", fmt=\"d\", annot_kws={\"size\": 13},\n",
    "            xticklabels = ['Non-default', 'Default'], \n",
    "            yticklabels = ['Non-default', 'Default'])\n",
    "plt.ylabel('True label')\n",
    "plt.xlabel('Predicted label')\n",
    "plt.title(\"Confusion Matrix - XGBoost\");"
   ]
  },
  {
   "cell_type": "markdown",
   "id": "00d9d0a8",
   "metadata": {},
   "source": [
    "> False Negatives are too many!"
   ]
  },
  {
   "cell_type": "code",
   "execution_count": 34,
   "id": "fb791e81",
   "metadata": {
    "scrolled": true
   },
   "outputs": [
    {
     "data": {
      "image/png": "[encoded data removed]",
      "text/plain": [
       "<Figure size 576x432 with 2 Axes>"
      ]
     },
     "metadata": {},
     "output_type": "display_data"
    }
   ],
   "source": [
    "thr = 0.2\n",
    "y_pred_labeled = np.where(y_pred > thr, 1, 0)\n",
    "metrics.precision_score(y_test, y_pred_labeled)\n",
    "\n",
    "plt.figure(figsize=(8,6))\n",
    "ConfMatrix = confusion_matrix(y_test,y_pred_labeled)\n",
    "sns.heatmap(ConfMatrix,annot=True, cmap=\"Blues\", fmt=\"d\", annot_kws={\"size\": 13},\n",
    "            xticklabels = ['Non-default', 'Default'], \n",
    "            yticklabels = ['Non-default', 'Default'])\n",
    "plt.ylabel('True label')\n",
    "plt.xlabel('Predicted label')\n",
    "plt.title(\"Confusion Matrix - XGBoost\");"
   ]
  },
  {
   "cell_type": "markdown",
   "id": "fd2ed1c2",
   "metadata": {},
   "source": [
    "> Now we have a higher Recall at the cost of Precision becoming lower. So, there is a trade-off in choosing the right cut-off point"
   ]
  },
  {
   "cell_type": "markdown",
   "id": "ab031865",
   "metadata": {},
   "source": [
    "## Cross Validation and Parametere Tuning"
   ]
  },
  {
   "cell_type": "markdown",
   "id": "57857cf4",
   "metadata": {},
   "source": [
    "XGBoost like any ML model needs to be tuned to perform the best."
   ]
  },
  {
   "cell_type": "code",
   "execution_count": 185,
   "id": "a63a775b",
   "metadata": {
    "scrolled": false
   },
   "outputs": [
    {
     "data": {
      "text/plain": [
       "XGBClassifier(base_score=0.5, booster='gbtree', colsample_bylevel=1,\n",
       "              colsample_bynode=1, colsample_bytree=0.8,\n",
       "              enable_categorical=False, eval_metric='auc', gamma=0, gpu_id=-1,\n",
       "              importance_type=None, interaction_constraints='',\n",
       "              learning_rate=0.05, max_delta_step=0, max_depth=6,\n",
       "              min_child_weight=1, missing=nan, monotone_constraints='()',\n",
       "              n_estimators=500, n_jobs=4, num_parallel_tree=1, predictor='auto',\n",
       "              random_state=27, reg_alpha=0, reg_lambda=1, scale_pos_weight=1,\n",
       "              seed=27, subsample=0.8, tree_method='exact',\n",
       "              validate_parameters=1, verbosity=None)"
      ]
     },
     "execution_count": 185,
     "metadata": {},
     "output_type": "execute_result"
    }
   ],
   "source": [
    "params = {\n",
    "        \"n_jobs\": 4,\n",
    "        \"learning_rate\": 0.05,\n",
    "        \"eval_metric\": \"auc\",\n",
    "        \"max_depth\" : 6,\n",
    "        \"n_estimators\":500,\n",
    "       # \"min_child_weight\":1,\n",
    "      # \"gamma\":0,\n",
    "        \"subsample\":0.8,\n",
    "        \"colsample_bytree\":0.8,\n",
    "        \"objective\": 'binary:logistic',\n",
    "        #\"scale_pos_weight\":1,\n",
    "        \"seed\":27\n",
    "}\n",
    "\n",
    "eval_set = [(x_train, y_train), (x_test, y_test)]\n",
    "myModel = XGBClassifier(**params)\n",
    "\n",
    "myModel.fit(x_train, y_train, eval_metric=\"auc\", eval_set=eval_set, early_stopping_rounds=10, verbose=False)"
   ]
  },
  {
   "cell_type": "code",
   "execution_count": 81,
   "id": "7b81f941",
   "metadata": {},
   "outputs": [
    {
     "name": "stdout",
     "output_type": "stream",
     "text": [
      "Majority class to minority ratio: 3.47\n"
     ]
    }
   ],
   "source": [
    "\n",
    "cnt = pd.Series(y_train).value_counts(normalize = True)\n",
    "print(\"Majority class to minority ratio: %.2f\" % (cnt[0] / cnt[1]))"
   ]
  },
  {
   "cell_type": "code",
   "execution_count": 74,
   "id": "488fe554",
   "metadata": {
    "scrolled": false
   },
   "outputs": [
    {
     "name": "stdout",
     "output_type": "stream",
     "text": [
      "[16:17:11] WARNING: C:/Users/Administrator/workspace/xgboost-win64_release_1.5.1/src/learner.cc:1115: Starting in XGBoost 1.3.0, the default evaluation metric used with the objective 'binary:logistic' was changed from 'error' to 'logloss'. Explicitly set eval_metric if you'd like to restore the old behavior.\n",
      "Wall time: 32min 56s\n"
     ]
    }
   ],
   "source": [
    "%%time\n",
    "\n",
    "param_grid = {\n",
    "    \"max_depth\" : range(3,10),\n",
    "    \"learning_rate\" : [0.01, 0.05, 0.1, 0.2],\n",
    "    \"scale_pos_weight\": [1, 2, 3, 4, 5],\n",
    "    \"n_estimators\" : [50, 100, 200]\n",
    "             }\n",
    "\n",
    "params = {\n",
    "        #\"learning_rate\": 0.05,\n",
    "        \"objective\": 'binary:logistic',\n",
    "        #\"n_estimators\":500,\n",
    "        \"seed\": 27\n",
    "}\n",
    "\n",
    "myModel = XGBClassifier(**params)\n",
    "\n",
    "grid = GridSearchCV(\n",
    "    estimator=myModel,\n",
    "    param_grid=param_grid,\n",
    "    n_jobs=-1,\n",
    "    cv=5,\n",
    "    scoring=[\"roc_auc\", \"f1\"],\n",
    "    refit = \"roc_auc\" #refits at the end on the selected best metric\n",
    ")\n",
    "#can see list of scoring metrics at `metrics.SCORERS.keys()`\n",
    "grid_result = grid.fit(x_train, y_train)\n"
   ]
  },
  {
   "cell_type": "code",
   "execution_count": 75,
   "id": "b69f95ba",
   "metadata": {
    "scrolled": true
   },
   "outputs": [
    {
     "name": "stdout",
     "output_type": "stream",
     "text": [
      "Highest roc_auc (metric): 0.780854 using {'learning_rate': 0.05, 'max_depth': 3, 'n_estimators': 200, 'scale_pos_weight': 2} \n",
      "\n",
      "0.757929 (0.006751) with: {'learning_rate': 0.01, 'max_depth': 3, 'n_estimators': 50, 'scale_pos_weight': 1}\n",
      "0.762069 (0.005315) with: {'learning_rate': 0.01, 'max_depth': 3, 'n_estimators': 50, 'scale_pos_weight': 2}\n",
      "0.763004 (0.005612) with: {'learning_rate': 0.01, 'max_depth': 3, 'n_estimators': 50, 'scale_pos_weight': 3}\n",
      "0.763814 (0.006167) with: {'learning_rate': 0.01, 'max_depth': 3, 'n_estimators': 50, 'scale_pos_weight': 4}\n",
      "0.764178 (0.006741) with: {'learning_rate': 0.01, 'max_depth': 3, 'n_estimators': 50, 'scale_pos_weight': 5}\n",
      "0.765609 (0.004736) with: {'learning_rate': 0.01, 'max_depth': 3, 'n_estimators': 100, 'scale_pos_weight': 1}\n",
      "0.767064 (0.004303) with: {'learning_rate': 0.01, 'max_depth': 3, 'n_estimators': 100, 'scale_pos_weight': 2}\n",
      "0.767487 (0.004654) with: {'learning_rate': 0.01, 'max_depth': 3, 'n_estimators': 100, 'scale_pos_weight': 3}\n",
      "0.767588 (0.004647) with: {'learning_rate': 0.01, 'max_depth': 3, 'n_estimators': 100, 'scale_pos_weight': 4}\n",
      "0.767434 (0.004594) with: {'learning_rate': 0.01, 'max_depth': 3, 'n_estimators': 100, 'scale_pos_weight': 5}\n",
      "0.770499 (0.004462) with: {'learning_rate': 0.01, 'max_depth': 3, 'n_estimators': 200, 'scale_pos_weight': 1}\n",
      "0.771129 (0.004280) with: {'learning_rate': 0.01, 'max_depth': 3, 'n_estimators': 200, 'scale_pos_weight': 2}\n",
      "0.771328 (0.004937) with: {'learning_rate': 0.01, 'max_depth': 3, 'n_estimators': 200, 'scale_pos_weight': 3}\n",
      "0.771442 (0.004605) with: {'learning_rate': 0.01, 'max_depth': 3, 'n_estimators': 200, 'scale_pos_weight': 4}\n",
      "0.771241 (0.004683) with: {'learning_rate': 0.01, 'max_depth': 3, 'n_estimators': 200, 'scale_pos_weight': 5}\n",
      "0.764455 (0.007716) with: {'learning_rate': 0.01, 'max_depth': 4, 'n_estimators': 50, 'scale_pos_weight': 1}\n",
      "0.767340 (0.004445) with: {'learning_rate': 0.01, 'max_depth': 4, 'n_estimators': 50, 'scale_pos_weight': 2}\n",
      "0.767194 (0.004814) with: {'learning_rate': 0.01, 'max_depth': 4, 'n_estimators': 50, 'scale_pos_weight': 3}\n",
      "0.767160 (0.004799) with: {'learning_rate': 0.01, 'max_depth': 4, 'n_estimators': 50, 'scale_pos_weight': 4}\n",
      "0.767114 (0.004598) with: {'learning_rate': 0.01, 'max_depth': 4, 'n_estimators': 50, 'scale_pos_weight': 5}\n",
      "0.770114 (0.004287) with: {'learning_rate': 0.01, 'max_depth': 4, 'n_estimators': 100, 'scale_pos_weight': 1}\n",
      "0.771106 (0.005470) with: {'learning_rate': 0.01, 'max_depth': 4, 'n_estimators': 100, 'scale_pos_weight': 2}\n",
      "0.771737 (0.005480) with: {'learning_rate': 0.01, 'max_depth': 4, 'n_estimators': 100, 'scale_pos_weight': 3}\n",
      "0.771483 (0.005097) with: {'learning_rate': 0.01, 'max_depth': 4, 'n_estimators': 100, 'scale_pos_weight': 4}\n",
      "0.771253 (0.004923) with: {'learning_rate': 0.01, 'max_depth': 4, 'n_estimators': 100, 'scale_pos_weight': 5}\n",
      "0.774445 (0.005025) with: {'learning_rate': 0.01, 'max_depth': 4, 'n_estimators': 200, 'scale_pos_weight': 1}\n",
      "0.774626 (0.004835) with: {'learning_rate': 0.01, 'max_depth': 4, 'n_estimators': 200, 'scale_pos_weight': 2}\n",
      "0.774740 (0.004891) with: {'learning_rate': 0.01, 'max_depth': 4, 'n_estimators': 200, 'scale_pos_weight': 3}\n",
      "0.774910 (0.004664) with: {'learning_rate': 0.01, 'max_depth': 4, 'n_estimators': 200, 'scale_pos_weight': 4}\n",
      "0.774775 (0.004319) with: {'learning_rate': 0.01, 'max_depth': 4, 'n_estimators': 200, 'scale_pos_weight': 5}\n",
      "0.768134 (0.004479) with: {'learning_rate': 0.01, 'max_depth': 5, 'n_estimators': 50, 'scale_pos_weight': 1}\n",
      "0.768716 (0.004705) with: {'learning_rate': 0.01, 'max_depth': 5, 'n_estimators': 50, 'scale_pos_weight': 2}\n",
      "0.768773 (0.004420) with: {'learning_rate': 0.01, 'max_depth': 5, 'n_estimators': 50, 'scale_pos_weight': 3}\n",
      "0.768625 (0.004151) with: {'learning_rate': 0.01, 'max_depth': 5, 'n_estimators': 50, 'scale_pos_weight': 4}\n",
      "0.768130 (0.003884) with: {'learning_rate': 0.01, 'max_depth': 5, 'n_estimators': 50, 'scale_pos_weight': 5}\n",
      "0.771029 (0.005038) with: {'learning_rate': 0.01, 'max_depth': 5, 'n_estimators': 100, 'scale_pos_weight': 1}\n",
      "0.770804 (0.004817) with: {'learning_rate': 0.01, 'max_depth': 5, 'n_estimators': 100, 'scale_pos_weight': 2}\n",
      "0.770695 (0.004088) with: {'learning_rate': 0.01, 'max_depth': 5, 'n_estimators': 100, 'scale_pos_weight': 3}\n",
      "0.770945 (0.004707) with: {'learning_rate': 0.01, 'max_depth': 5, 'n_estimators': 100, 'scale_pos_weight': 4}\n",
      "0.770984 (0.004652) with: {'learning_rate': 0.01, 'max_depth': 5, 'n_estimators': 100, 'scale_pos_weight': 5}\n",
      "0.774046 (0.004983) with: {'learning_rate': 0.01, 'max_depth': 5, 'n_estimators': 200, 'scale_pos_weight': 1}\n",
      "0.774043 (0.004921) with: {'learning_rate': 0.01, 'max_depth': 5, 'n_estimators': 200, 'scale_pos_weight': 2}\n",
      "0.774644 (0.005079) with: {'learning_rate': 0.01, 'max_depth': 5, 'n_estimators': 200, 'scale_pos_weight': 3}\n",
      "0.774712 (0.005217) with: {'learning_rate': 0.01, 'max_depth': 5, 'n_estimators': 200, 'scale_pos_weight': 4}\n",
      "0.774376 (0.005068) with: {'learning_rate': 0.01, 'max_depth': 5, 'n_estimators': 200, 'scale_pos_weight': 5}\n",
      "0.768943 (0.003844) with: {'learning_rate': 0.01, 'max_depth': 6, 'n_estimators': 50, 'scale_pos_weight': 1}\n",
      "0.766352 (0.003423) with: {'learning_rate': 0.01, 'max_depth': 6, 'n_estimators': 50, 'scale_pos_weight': 2}\n",
      "0.765093 (0.004628) with: {'learning_rate': 0.01, 'max_depth': 6, 'n_estimators': 50, 'scale_pos_weight': 3}\n",
      "0.764329 (0.004911) with: {'learning_rate': 0.01, 'max_depth': 6, 'n_estimators': 50, 'scale_pos_weight': 4}\n",
      "0.763116 (0.004923) with: {'learning_rate': 0.01, 'max_depth': 6, 'n_estimators': 50, 'scale_pos_weight': 5}\n",
      "0.771414 (0.003568) with: {'learning_rate': 0.01, 'max_depth': 6, 'n_estimators': 100, 'scale_pos_weight': 1}\n",
      "0.769257 (0.004466) with: {'learning_rate': 0.01, 'max_depth': 6, 'n_estimators': 100, 'scale_pos_weight': 2}\n",
      "0.768249 (0.004628) with: {'learning_rate': 0.01, 'max_depth': 6, 'n_estimators': 100, 'scale_pos_weight': 3}\n",
      "0.767800 (0.004874) with: {'learning_rate': 0.01, 'max_depth': 6, 'n_estimators': 100, 'scale_pos_weight': 4}\n",
      "0.766923 (0.004452) with: {'learning_rate': 0.01, 'max_depth': 6, 'n_estimators': 100, 'scale_pos_weight': 5}\n",
      "0.773525 (0.004390) with: {'learning_rate': 0.01, 'max_depth': 6, 'n_estimators': 200, 'scale_pos_weight': 1}\n",
      "0.772121 (0.004580) with: {'learning_rate': 0.01, 'max_depth': 6, 'n_estimators': 200, 'scale_pos_weight': 2}\n",
      "0.772204 (0.005373) with: {'learning_rate': 0.01, 'max_depth': 6, 'n_estimators': 200, 'scale_pos_weight': 3}\n",
      "0.772318 (0.006149) with: {'learning_rate': 0.01, 'max_depth': 6, 'n_estimators': 200, 'scale_pos_weight': 4}\n",
      "0.771209 (0.005988) with: {'learning_rate': 0.01, 'max_depth': 6, 'n_estimators': 200, 'scale_pos_weight': 5}\n",
      "0.769656 (0.005124) with: {'learning_rate': 0.01, 'max_depth': 7, 'n_estimators': 50, 'scale_pos_weight': 1}\n",
      "0.763514 (0.002734) with: {'learning_rate': 0.01, 'max_depth': 7, 'n_estimators': 50, 'scale_pos_weight': 2}\n",
      "0.760950 (0.004995) with: {'learning_rate': 0.01, 'max_depth': 7, 'n_estimators': 50, 'scale_pos_weight': 3}\n",
      "0.758196 (0.006694) with: {'learning_rate': 0.01, 'max_depth': 7, 'n_estimators': 50, 'scale_pos_weight': 4}\n",
      "0.757170 (0.006676) with: {'learning_rate': 0.01, 'max_depth': 7, 'n_estimators': 50, 'scale_pos_weight': 5}\n",
      "0.770361 (0.004718) with: {'learning_rate': 0.01, 'max_depth': 7, 'n_estimators': 100, 'scale_pos_weight': 1}\n",
      "0.766123 (0.003777) with: {'learning_rate': 0.01, 'max_depth': 7, 'n_estimators': 100, 'scale_pos_weight': 2}\n",
      "0.764982 (0.004106) with: {'learning_rate': 0.01, 'max_depth': 7, 'n_estimators': 100, 'scale_pos_weight': 3}\n",
      "0.762339 (0.005690) with: {'learning_rate': 0.01, 'max_depth': 7, 'n_estimators': 100, 'scale_pos_weight': 4}\n",
      "0.761193 (0.005998) with: {'learning_rate': 0.01, 'max_depth': 7, 'n_estimators': 100, 'scale_pos_weight': 5}\n",
      "0.770554 (0.004576) with: {'learning_rate': 0.01, 'max_depth': 7, 'n_estimators': 200, 'scale_pos_weight': 1}\n",
      "0.769165 (0.004194) with: {'learning_rate': 0.01, 'max_depth': 7, 'n_estimators': 200, 'scale_pos_weight': 2}\n",
      "0.768605 (0.004389) with: {'learning_rate': 0.01, 'max_depth': 7, 'n_estimators': 200, 'scale_pos_weight': 3}\n",
      "0.766675 (0.005466) with: {'learning_rate': 0.01, 'max_depth': 7, 'n_estimators': 200, 'scale_pos_weight': 4}\n",
      "0.765250 (0.005982) with: {'learning_rate': 0.01, 'max_depth': 7, 'n_estimators': 200, 'scale_pos_weight': 5}\n",
      "0.767076 (0.004100) with: {'learning_rate': 0.01, 'max_depth': 8, 'n_estimators': 50, 'scale_pos_weight': 1}\n",
      "0.761188 (0.003187) with: {'learning_rate': 0.01, 'max_depth': 8, 'n_estimators': 50, 'scale_pos_weight': 2}\n",
      "0.756166 (0.003820) with: {'learning_rate': 0.01, 'max_depth': 8, 'n_estimators': 50, 'scale_pos_weight': 3}\n",
      "0.753419 (0.005952) with: {'learning_rate': 0.01, 'max_depth': 8, 'n_estimators': 50, 'scale_pos_weight': 4}\n",
      "0.752336 (0.006437) with: {'learning_rate': 0.01, 'max_depth': 8, 'n_estimators': 50, 'scale_pos_weight': 5}\n",
      "0.768970 (0.004564) with: {'learning_rate': 0.01, 'max_depth': 8, 'n_estimators': 100, 'scale_pos_weight': 1}\n",
      "0.763865 (0.004119) with: {'learning_rate': 0.01, 'max_depth': 8, 'n_estimators': 100, 'scale_pos_weight': 2}\n",
      "0.760478 (0.004662) with: {'learning_rate': 0.01, 'max_depth': 8, 'n_estimators': 100, 'scale_pos_weight': 3}\n",
      "0.758470 (0.004468) with: {'learning_rate': 0.01, 'max_depth': 8, 'n_estimators': 100, 'scale_pos_weight': 4}\n",
      "0.756809 (0.004965) with: {'learning_rate': 0.01, 'max_depth': 8, 'n_estimators': 100, 'scale_pos_weight': 5}\n",
      "0.769944 (0.005331) with: {'learning_rate': 0.01, 'max_depth': 8, 'n_estimators': 200, 'scale_pos_weight': 1}\n",
      "0.766744 (0.004145) with: {'learning_rate': 0.01, 'max_depth': 8, 'n_estimators': 200, 'scale_pos_weight': 2}\n",
      "0.765401 (0.004836) with: {'learning_rate': 0.01, 'max_depth': 8, 'n_estimators': 200, 'scale_pos_weight': 3}\n",
      "0.763744 (0.004389) with: {'learning_rate': 0.01, 'max_depth': 8, 'n_estimators': 200, 'scale_pos_weight': 4}\n",
      "0.762340 (0.005224) with: {'learning_rate': 0.01, 'max_depth': 8, 'n_estimators': 200, 'scale_pos_weight': 5}\n",
      "0.764064 (0.004737) with: {'learning_rate': 0.01, 'max_depth': 9, 'n_estimators': 50, 'scale_pos_weight': 1}\n",
      "0.756665 (0.002201) with: {'learning_rate': 0.01, 'max_depth': 9, 'n_estimators': 50, 'scale_pos_weight': 2}\n",
      "0.751876 (0.001452) with: {'learning_rate': 0.01, 'max_depth': 9, 'n_estimators': 50, 'scale_pos_weight': 3}\n",
      "0.749304 (0.004570) with: {'learning_rate': 0.01, 'max_depth': 9, 'n_estimators': 50, 'scale_pos_weight': 4}\n",
      "0.747824 (0.005508) with: {'learning_rate': 0.01, 'max_depth': 9, 'n_estimators': 50, 'scale_pos_weight': 5}\n",
      "0.766865 (0.005825) with: {'learning_rate': 0.01, 'max_depth': 9, 'n_estimators': 100, 'scale_pos_weight': 1}\n",
      "0.762444 (0.002584) with: {'learning_rate': 0.01, 'max_depth': 9, 'n_estimators': 100, 'scale_pos_weight': 2}\n",
      "0.757686 (0.002965) with: {'learning_rate': 0.01, 'max_depth': 9, 'n_estimators': 100, 'scale_pos_weight': 3}\n",
      "0.755000 (0.003532) with: {'learning_rate': 0.01, 'max_depth': 9, 'n_estimators': 100, 'scale_pos_weight': 4}\n",
      "0.752707 (0.004190) with: {'learning_rate': 0.01, 'max_depth': 9, 'n_estimators': 100, 'scale_pos_weight': 5}\n",
      "0.767819 (0.006030) with: {'learning_rate': 0.01, 'max_depth': 9, 'n_estimators': 200, 'scale_pos_weight': 1}\n",
      "0.765471 (0.003094) with: {'learning_rate': 0.01, 'max_depth': 9, 'n_estimators': 200, 'scale_pos_weight': 2}\n",
      "0.762894 (0.003690) with: {'learning_rate': 0.01, 'max_depth': 9, 'n_estimators': 200, 'scale_pos_weight': 3}\n",
      "0.759859 (0.003555) with: {'learning_rate': 0.01, 'max_depth': 9, 'n_estimators': 200, 'scale_pos_weight': 4}\n",
      "0.756723 (0.005671) with: {'learning_rate': 0.01, 'max_depth': 9, 'n_estimators': 200, 'scale_pos_weight': 5}\n",
      "0.772582 (0.004719) with: {'learning_rate': 0.05, 'max_depth': 3, 'n_estimators': 50, 'scale_pos_weight': 1}\n",
      "0.773491 (0.004949) with: {'learning_rate': 0.05, 'max_depth': 3, 'n_estimators': 50, 'scale_pos_weight': 2}\n",
      "0.773245 (0.005273) with: {'learning_rate': 0.05, 'max_depth': 3, 'n_estimators': 50, 'scale_pos_weight': 3}\n",
      "0.773211 (0.004941) with: {'learning_rate': 0.05, 'max_depth': 3, 'n_estimators': 50, 'scale_pos_weight': 4}\n",
      "0.773305 (0.004572) with: {'learning_rate': 0.05, 'max_depth': 3, 'n_estimators': 50, 'scale_pos_weight': 5}\n",
      "0.778564 (0.005926) with: {'learning_rate': 0.05, 'max_depth': 3, 'n_estimators': 100, 'scale_pos_weight': 1}\n",
      "0.779126 (0.005547) with: {'learning_rate': 0.05, 'max_depth': 3, 'n_estimators': 100, 'scale_pos_weight': 2}\n",
      "0.778768 (0.006134) with: {'learning_rate': 0.05, 'max_depth': 3, 'n_estimators': 100, 'scale_pos_weight': 3}\n",
      "0.778682 (0.005551) with: {'learning_rate': 0.05, 'max_depth': 3, 'n_estimators': 100, 'scale_pos_weight': 4}\n",
      "0.778076 (0.005504) with: {'learning_rate': 0.05, 'max_depth': 3, 'n_estimators': 100, 'scale_pos_weight': 5}\n",
      "0.780292 (0.004828) with: {'learning_rate': 0.05, 'max_depth': 3, 'n_estimators': 200, 'scale_pos_weight': 1}\n",
      "0.780854 (0.006009) with: {'learning_rate': 0.05, 'max_depth': 3, 'n_estimators': 200, 'scale_pos_weight': 2}\n",
      "0.779941 (0.005963) with: {'learning_rate': 0.05, 'max_depth': 3, 'n_estimators': 200, 'scale_pos_weight': 3}\n",
      "0.779508 (0.005813) with: {'learning_rate': 0.05, 'max_depth': 3, 'n_estimators': 200, 'scale_pos_weight': 4}\n",
      "0.779118 (0.005460) with: {'learning_rate': 0.05, 'max_depth': 3, 'n_estimators': 200, 'scale_pos_weight': 5}\n",
      "0.775956 (0.005839) with: {'learning_rate': 0.05, 'max_depth': 4, 'n_estimators': 50, 'scale_pos_weight': 1}\n",
      "0.776500 (0.005222) with: {'learning_rate': 0.05, 'max_depth': 4, 'n_estimators': 50, 'scale_pos_weight': 2}\n",
      "0.776220 (0.005454) with: {'learning_rate': 0.05, 'max_depth': 4, 'n_estimators': 50, 'scale_pos_weight': 3}\n",
      "0.776354 (0.005136) with: {'learning_rate': 0.05, 'max_depth': 4, 'n_estimators': 50, 'scale_pos_weight': 4}\n",
      "0.776023 (0.004528) with: {'learning_rate': 0.05, 'max_depth': 4, 'n_estimators': 50, 'scale_pos_weight': 5}\n",
      "0.778841 (0.005523) with: {'learning_rate': 0.05, 'max_depth': 4, 'n_estimators': 100, 'scale_pos_weight': 1}\n",
      "0.779539 (0.005770) with: {'learning_rate': 0.05, 'max_depth': 4, 'n_estimators': 100, 'scale_pos_weight': 2}\n",
      "0.779719 (0.005524) with: {'learning_rate': 0.05, 'max_depth': 4, 'n_estimators': 100, 'scale_pos_weight': 3}\n",
      "0.779422 (0.005356) with: {'learning_rate': 0.05, 'max_depth': 4, 'n_estimators': 100, 'scale_pos_weight': 4}\n",
      "0.778774 (0.005007) with: {'learning_rate': 0.05, 'max_depth': 4, 'n_estimators': 100, 'scale_pos_weight': 5}\n",
      "0.779526 (0.005226) with: {'learning_rate': 0.05, 'max_depth': 4, 'n_estimators': 200, 'scale_pos_weight': 1}\n",
      "0.779189 (0.005410) with: {'learning_rate': 0.05, 'max_depth': 4, 'n_estimators': 200, 'scale_pos_weight': 2}\n",
      "0.778669 (0.005093) with: {'learning_rate': 0.05, 'max_depth': 4, 'n_estimators': 200, 'scale_pos_weight': 3}\n",
      "0.778931 (0.004421) with: {'learning_rate': 0.05, 'max_depth': 4, 'n_estimators': 200, 'scale_pos_weight': 4}\n",
      "0.777894 (0.004543) with: {'learning_rate': 0.05, 'max_depth': 4, 'n_estimators': 200, 'scale_pos_weight': 5}\n",
      "0.775539 (0.005098) with: {'learning_rate': 0.05, 'max_depth': 5, 'n_estimators': 50, 'scale_pos_weight': 1}\n",
      "0.775074 (0.005200) with: {'learning_rate': 0.05, 'max_depth': 5, 'n_estimators': 50, 'scale_pos_weight': 2}\n",
      "0.776546 (0.005707) with: {'learning_rate': 0.05, 'max_depth': 5, 'n_estimators': 50, 'scale_pos_weight': 3}\n",
      "0.775562 (0.006033) with: {'learning_rate': 0.05, 'max_depth': 5, 'n_estimators': 50, 'scale_pos_weight': 4}\n",
      "0.775162 (0.005808) with: {'learning_rate': 0.05, 'max_depth': 5, 'n_estimators': 50, 'scale_pos_weight': 5}\n",
      "0.778131 (0.004754) with: {'learning_rate': 0.05, 'max_depth': 5, 'n_estimators': 100, 'scale_pos_weight': 1}\n",
      "0.776659 (0.004943) with: {'learning_rate': 0.05, 'max_depth': 5, 'n_estimators': 100, 'scale_pos_weight': 2}\n",
      "0.777268 (0.005501) with: {'learning_rate': 0.05, 'max_depth': 5, 'n_estimators': 100, 'scale_pos_weight': 3}\n",
      "0.776872 (0.005350) with: {'learning_rate': 0.05, 'max_depth': 5, 'n_estimators': 100, 'scale_pos_weight': 4}\n",
      "0.775336 (0.004742) with: {'learning_rate': 0.05, 'max_depth': 5, 'n_estimators': 100, 'scale_pos_weight': 5}\n",
      "0.776724 (0.005242) with: {'learning_rate': 0.05, 'max_depth': 5, 'n_estimators': 200, 'scale_pos_weight': 1}\n",
      "0.774899 (0.005228) with: {'learning_rate': 0.05, 'max_depth': 5, 'n_estimators': 200, 'scale_pos_weight': 2}\n",
      "0.775082 (0.005424) with: {'learning_rate': 0.05, 'max_depth': 5, 'n_estimators': 200, 'scale_pos_weight': 3}\n",
      "0.774660 (0.004571) with: {'learning_rate': 0.05, 'max_depth': 5, 'n_estimators': 200, 'scale_pos_weight': 4}\n",
      "0.773862 (0.004394) with: {'learning_rate': 0.05, 'max_depth': 5, 'n_estimators': 200, 'scale_pos_weight': 5}\n",
      "0.773840 (0.005046) with: {'learning_rate': 0.05, 'max_depth': 6, 'n_estimators': 50, 'scale_pos_weight': 1}\n",
      "0.773380 (0.005071) with: {'learning_rate': 0.05, 'max_depth': 6, 'n_estimators': 50, 'scale_pos_weight': 2}\n",
      "0.773269 (0.005395) with: {'learning_rate': 0.05, 'max_depth': 6, 'n_estimators': 50, 'scale_pos_weight': 3}\n",
      "0.772943 (0.005615) with: {'learning_rate': 0.05, 'max_depth': 6, 'n_estimators': 50, 'scale_pos_weight': 4}\n",
      "0.772329 (0.005694) with: {'learning_rate': 0.05, 'max_depth': 6, 'n_estimators': 50, 'scale_pos_weight': 5}\n",
      "0.776322 (0.005212) with: {'learning_rate': 0.05, 'max_depth': 6, 'n_estimators': 100, 'scale_pos_weight': 1}\n",
      "0.774612 (0.004968) with: {'learning_rate': 0.05, 'max_depth': 6, 'n_estimators': 100, 'scale_pos_weight': 2}\n",
      "0.773788 (0.005228) with: {'learning_rate': 0.05, 'max_depth': 6, 'n_estimators': 100, 'scale_pos_weight': 3}\n",
      "0.773278 (0.004534) with: {'learning_rate': 0.05, 'max_depth': 6, 'n_estimators': 100, 'scale_pos_weight': 4}\n",
      "0.771284 (0.004826) with: {'learning_rate': 0.05, 'max_depth': 6, 'n_estimators': 100, 'scale_pos_weight': 5}\n",
      "0.772981 (0.005752) with: {'learning_rate': 0.05, 'max_depth': 6, 'n_estimators': 200, 'scale_pos_weight': 1}\n",
      "0.772032 (0.006381) with: {'learning_rate': 0.05, 'max_depth': 6, 'n_estimators': 200, 'scale_pos_weight': 2}\n",
      "0.771722 (0.004723) with: {'learning_rate': 0.05, 'max_depth': 6, 'n_estimators': 200, 'scale_pos_weight': 3}\n",
      "0.769749 (0.004604) with: {'learning_rate': 0.05, 'max_depth': 6, 'n_estimators': 200, 'scale_pos_weight': 4}\n",
      "0.767322 (0.005193) with: {'learning_rate': 0.05, 'max_depth': 6, 'n_estimators': 200, 'scale_pos_weight': 5}\n",
      "0.770733 (0.003882) with: {'learning_rate': 0.05, 'max_depth': 7, 'n_estimators': 50, 'scale_pos_weight': 1}\n",
      "0.770340 (0.004988) with: {'learning_rate': 0.05, 'max_depth': 7, 'n_estimators': 50, 'scale_pos_weight': 2}\n",
      "0.769201 (0.004962) with: {'learning_rate': 0.05, 'max_depth': 7, 'n_estimators': 50, 'scale_pos_weight': 3}\n",
      "0.767598 (0.006035) with: {'learning_rate': 0.05, 'max_depth': 7, 'n_estimators': 50, 'scale_pos_weight': 4}\n",
      "0.766914 (0.006992) with: {'learning_rate': 0.05, 'max_depth': 7, 'n_estimators': 50, 'scale_pos_weight': 5}\n",
      "0.773918 (0.005381) with: {'learning_rate': 0.05, 'max_depth': 7, 'n_estimators': 100, 'scale_pos_weight': 1}\n",
      "0.772468 (0.005539) with: {'learning_rate': 0.05, 'max_depth': 7, 'n_estimators': 100, 'scale_pos_weight': 2}\n",
      "0.769332 (0.005550) with: {'learning_rate': 0.05, 'max_depth': 7, 'n_estimators': 100, 'scale_pos_weight': 3}\n",
      "0.767403 (0.006571) with: {'learning_rate': 0.05, 'max_depth': 7, 'n_estimators': 100, 'scale_pos_weight': 4}\n",
      "0.765942 (0.006430) with: {'learning_rate': 0.05, 'max_depth': 7, 'n_estimators': 100, 'scale_pos_weight': 5}\n",
      "0.771831 (0.006135) with: {'learning_rate': 0.05, 'max_depth': 7, 'n_estimators': 200, 'scale_pos_weight': 1}\n",
      "0.769297 (0.005606) with: {'learning_rate': 0.05, 'max_depth': 7, 'n_estimators': 200, 'scale_pos_weight': 2}\n",
      "0.766109 (0.007194) with: {'learning_rate': 0.05, 'max_depth': 7, 'n_estimators': 200, 'scale_pos_weight': 3}\n",
      "0.763633 (0.006481) with: {'learning_rate': 0.05, 'max_depth': 7, 'n_estimators': 200, 'scale_pos_weight': 4}\n",
      "0.762343 (0.006987) with: {'learning_rate': 0.05, 'max_depth': 7, 'n_estimators': 200, 'scale_pos_weight': 5}\n",
      "0.769431 (0.005053) with: {'learning_rate': 0.05, 'max_depth': 8, 'n_estimators': 50, 'scale_pos_weight': 1}\n",
      "0.767482 (0.003837) with: {'learning_rate': 0.05, 'max_depth': 8, 'n_estimators': 50, 'scale_pos_weight': 2}\n",
      "0.765964 (0.005728) with: {'learning_rate': 0.05, 'max_depth': 8, 'n_estimators': 50, 'scale_pos_weight': 3}\n",
      "0.764245 (0.005750) with: {'learning_rate': 0.05, 'max_depth': 8, 'n_estimators': 50, 'scale_pos_weight': 4}\n",
      "0.761867 (0.005220) with: {'learning_rate': 0.05, 'max_depth': 8, 'n_estimators': 50, 'scale_pos_weight': 5}\n",
      "0.771412 (0.005837) with: {'learning_rate': 0.05, 'max_depth': 8, 'n_estimators': 100, 'scale_pos_weight': 1}\n",
      "0.768001 (0.004646) with: {'learning_rate': 0.05, 'max_depth': 8, 'n_estimators': 100, 'scale_pos_weight': 2}\n",
      "0.766597 (0.006204) with: {'learning_rate': 0.05, 'max_depth': 8, 'n_estimators': 100, 'scale_pos_weight': 3}\n",
      "0.764361 (0.005928) with: {'learning_rate': 0.05, 'max_depth': 8, 'n_estimators': 100, 'scale_pos_weight': 4}\n",
      "0.762069 (0.005710) with: {'learning_rate': 0.05, 'max_depth': 8, 'n_estimators': 100, 'scale_pos_weight': 5}\n",
      "0.766978 (0.004814) with: {'learning_rate': 0.05, 'max_depth': 8, 'n_estimators': 200, 'scale_pos_weight': 1}\n",
      "0.763931 (0.003676) with: {'learning_rate': 0.05, 'max_depth': 8, 'n_estimators': 200, 'scale_pos_weight': 2}\n",
      "0.762116 (0.005639) with: {'learning_rate': 0.05, 'max_depth': 8, 'n_estimators': 200, 'scale_pos_weight': 3}\n",
      "0.760007 (0.005756) with: {'learning_rate': 0.05, 'max_depth': 8, 'n_estimators': 200, 'scale_pos_weight': 4}\n",
      "0.758503 (0.004266) with: {'learning_rate': 0.05, 'max_depth': 8, 'n_estimators': 200, 'scale_pos_weight': 5}\n",
      "0.767891 (0.005655) with: {'learning_rate': 0.05, 'max_depth': 9, 'n_estimators': 50, 'scale_pos_weight': 1}\n",
      "0.764506 (0.004306) with: {'learning_rate': 0.05, 'max_depth': 9, 'n_estimators': 50, 'scale_pos_weight': 2}\n",
      "0.764522 (0.004759) with: {'learning_rate': 0.05, 'max_depth': 9, 'n_estimators': 50, 'scale_pos_weight': 3}\n",
      "0.760194 (0.004490) with: {'learning_rate': 0.05, 'max_depth': 9, 'n_estimators': 50, 'scale_pos_weight': 4}\n",
      "0.757798 (0.007065) with: {'learning_rate': 0.05, 'max_depth': 9, 'n_estimators': 50, 'scale_pos_weight': 5}\n",
      "0.769564 (0.004737) with: {'learning_rate': 0.05, 'max_depth': 9, 'n_estimators': 100, 'scale_pos_weight': 1}\n",
      "0.765334 (0.003672) with: {'learning_rate': 0.05, 'max_depth': 9, 'n_estimators': 100, 'scale_pos_weight': 2}\n",
      "0.764645 (0.004677) with: {'learning_rate': 0.05, 'max_depth': 9, 'n_estimators': 100, 'scale_pos_weight': 3}\n",
      "0.759991 (0.004483) with: {'learning_rate': 0.05, 'max_depth': 9, 'n_estimators': 100, 'scale_pos_weight': 4}\n",
      "0.757570 (0.007151) with: {'learning_rate': 0.05, 'max_depth': 9, 'n_estimators': 100, 'scale_pos_weight': 5}\n",
      "0.766924 (0.004500) with: {'learning_rate': 0.05, 'max_depth': 9, 'n_estimators': 200, 'scale_pos_weight': 1}\n",
      "0.761133 (0.004232) with: {'learning_rate': 0.05, 'max_depth': 9, 'n_estimators': 200, 'scale_pos_weight': 2}\n",
      "0.760154 (0.005418) with: {'learning_rate': 0.05, 'max_depth': 9, 'n_estimators': 200, 'scale_pos_weight': 3}\n",
      "0.756665 (0.005058) with: {'learning_rate': 0.05, 'max_depth': 9, 'n_estimators': 200, 'scale_pos_weight': 4}\n",
      "0.753865 (0.007465) with: {'learning_rate': 0.05, 'max_depth': 9, 'n_estimators': 200, 'scale_pos_weight': 5}\n",
      "0.777989 (0.005283) with: {'learning_rate': 0.1, 'max_depth': 3, 'n_estimators': 50, 'scale_pos_weight': 1}\n",
      "0.777991 (0.005481) with: {'learning_rate': 0.1, 'max_depth': 3, 'n_estimators': 50, 'scale_pos_weight': 2}\n",
      "0.778417 (0.005741) with: {'learning_rate': 0.1, 'max_depth': 3, 'n_estimators': 50, 'scale_pos_weight': 3}\n",
      "0.778357 (0.005479) with: {'learning_rate': 0.1, 'max_depth': 3, 'n_estimators': 50, 'scale_pos_weight': 4}\n",
      "0.778251 (0.005746) with: {'learning_rate': 0.1, 'max_depth': 3, 'n_estimators': 50, 'scale_pos_weight': 5}\n",
      "0.780196 (0.004812) with: {'learning_rate': 0.1, 'max_depth': 3, 'n_estimators': 100, 'scale_pos_weight': 1}\n",
      "0.779446 (0.006027) with: {'learning_rate': 0.1, 'max_depth': 3, 'n_estimators': 100, 'scale_pos_weight': 2}\n",
      "0.779934 (0.006160) with: {'learning_rate': 0.1, 'max_depth': 3, 'n_estimators': 100, 'scale_pos_weight': 3}\n",
      "0.779187 (0.004950) with: {'learning_rate': 0.1, 'max_depth': 3, 'n_estimators': 100, 'scale_pos_weight': 4}\n",
      "0.778485 (0.005501) with: {'learning_rate': 0.1, 'max_depth': 3, 'n_estimators': 100, 'scale_pos_weight': 5}\n",
      "0.778471 (0.004222) with: {'learning_rate': 0.1, 'max_depth': 3, 'n_estimators': 200, 'scale_pos_weight': 1}\n",
      "0.777678 (0.005245) with: {'learning_rate': 0.1, 'max_depth': 3, 'n_estimators': 200, 'scale_pos_weight': 2}\n",
      "0.777538 (0.007017) with: {'learning_rate': 0.1, 'max_depth': 3, 'n_estimators': 200, 'scale_pos_weight': 3}\n",
      "0.777204 (0.005303) with: {'learning_rate': 0.1, 'max_depth': 3, 'n_estimators': 200, 'scale_pos_weight': 4}\n",
      "0.776313 (0.005010) with: {'learning_rate': 0.1, 'max_depth': 3, 'n_estimators': 200, 'scale_pos_weight': 5}\n",
      "0.779659 (0.005919) with: {'learning_rate': 0.1, 'max_depth': 4, 'n_estimators': 50, 'scale_pos_weight': 1}\n",
      "0.778768 (0.004810) with: {'learning_rate': 0.1, 'max_depth': 4, 'n_estimators': 50, 'scale_pos_weight': 2}\n",
      "0.779473 (0.005386) with: {'learning_rate': 0.1, 'max_depth': 4, 'n_estimators': 50, 'scale_pos_weight': 3}\n",
      "0.778948 (0.006032) with: {'learning_rate': 0.1, 'max_depth': 4, 'n_estimators': 50, 'scale_pos_weight': 4}\n",
      "0.779686 (0.005770) with: {'learning_rate': 0.1, 'max_depth': 4, 'n_estimators': 50, 'scale_pos_weight': 5}\n",
      "0.779776 (0.005394) with: {'learning_rate': 0.1, 'max_depth': 4, 'n_estimators': 100, 'scale_pos_weight': 1}\n",
      "0.779198 (0.005523) with: {'learning_rate': 0.1, 'max_depth': 4, 'n_estimators': 100, 'scale_pos_weight': 2}\n",
      "0.778163 (0.005069) with: {'learning_rate': 0.1, 'max_depth': 4, 'n_estimators': 100, 'scale_pos_weight': 3}\n",
      "0.778582 (0.005010) with: {'learning_rate': 0.1, 'max_depth': 4, 'n_estimators': 100, 'scale_pos_weight': 4}\n",
      "0.777601 (0.004787) with: {'learning_rate': 0.1, 'max_depth': 4, 'n_estimators': 100, 'scale_pos_weight': 5}\n",
      "0.775793 (0.006157) with: {'learning_rate': 0.1, 'max_depth': 4, 'n_estimators': 200, 'scale_pos_weight': 1}\n",
      "0.774475 (0.006568) with: {'learning_rate': 0.1, 'max_depth': 4, 'n_estimators': 200, 'scale_pos_weight': 2}\n",
      "0.775011 (0.006036) with: {'learning_rate': 0.1, 'max_depth': 4, 'n_estimators': 200, 'scale_pos_weight': 3}\n",
      "0.774370 (0.006397) with: {'learning_rate': 0.1, 'max_depth': 4, 'n_estimators': 200, 'scale_pos_weight': 4}\n",
      "0.772844 (0.005512) with: {'learning_rate': 0.1, 'max_depth': 4, 'n_estimators': 200, 'scale_pos_weight': 5}\n",
      "0.777285 (0.005234) with: {'learning_rate': 0.1, 'max_depth': 5, 'n_estimators': 50, 'scale_pos_weight': 1}\n",
      "0.776426 (0.005979) with: {'learning_rate': 0.1, 'max_depth': 5, 'n_estimators': 50, 'scale_pos_weight': 2}\n",
      "0.776102 (0.005519) with: {'learning_rate': 0.1, 'max_depth': 5, 'n_estimators': 50, 'scale_pos_weight': 3}\n",
      "0.775112 (0.005156) with: {'learning_rate': 0.1, 'max_depth': 5, 'n_estimators': 50, 'scale_pos_weight': 4}\n",
      "0.775499 (0.004558) with: {'learning_rate': 0.1, 'max_depth': 5, 'n_estimators': 50, 'scale_pos_weight': 5}\n",
      "0.775936 (0.005609) with: {'learning_rate': 0.1, 'max_depth': 5, 'n_estimators': 100, 'scale_pos_weight': 1}\n",
      "0.775179 (0.005707) with: {'learning_rate': 0.1, 'max_depth': 5, 'n_estimators': 100, 'scale_pos_weight': 2}\n",
      "0.774491 (0.005246) with: {'learning_rate': 0.1, 'max_depth': 5, 'n_estimators': 100, 'scale_pos_weight': 3}\n",
      "0.774398 (0.005243) with: {'learning_rate': 0.1, 'max_depth': 5, 'n_estimators': 100, 'scale_pos_weight': 4}\n",
      "0.773473 (0.005222) with: {'learning_rate': 0.1, 'max_depth': 5, 'n_estimators': 100, 'scale_pos_weight': 5}\n",
      "0.770069 (0.006183) with: {'learning_rate': 0.1, 'max_depth': 5, 'n_estimators': 200, 'scale_pos_weight': 1}\n",
      "0.768946 (0.007607) with: {'learning_rate': 0.1, 'max_depth': 5, 'n_estimators': 200, 'scale_pos_weight': 2}\n",
      "0.768763 (0.005450) with: {'learning_rate': 0.1, 'max_depth': 5, 'n_estimators': 200, 'scale_pos_weight': 3}\n",
      "0.768334 (0.006681) with: {'learning_rate': 0.1, 'max_depth': 5, 'n_estimators': 200, 'scale_pos_weight': 4}\n",
      "0.766314 (0.007334) with: {'learning_rate': 0.1, 'max_depth': 5, 'n_estimators': 200, 'scale_pos_weight': 5}\n",
      "0.776304 (0.005475) with: {'learning_rate': 0.1, 'max_depth': 6, 'n_estimators': 50, 'scale_pos_weight': 1}\n",
      "0.773440 (0.004469) with: {'learning_rate': 0.1, 'max_depth': 6, 'n_estimators': 50, 'scale_pos_weight': 2}\n",
      "0.773120 (0.005730) with: {'learning_rate': 0.1, 'max_depth': 6, 'n_estimators': 50, 'scale_pos_weight': 3}\n",
      "0.771722 (0.005959) with: {'learning_rate': 0.1, 'max_depth': 6, 'n_estimators': 50, 'scale_pos_weight': 4}\n",
      "0.770302 (0.004009) with: {'learning_rate': 0.1, 'max_depth': 6, 'n_estimators': 50, 'scale_pos_weight': 5}\n",
      "0.774188 (0.004989) with: {'learning_rate': 0.1, 'max_depth': 6, 'n_estimators': 100, 'scale_pos_weight': 1}\n",
      "0.770186 (0.006094) with: {'learning_rate': 0.1, 'max_depth': 6, 'n_estimators': 100, 'scale_pos_weight': 2}\n",
      "0.769491 (0.006781) with: {'learning_rate': 0.1, 'max_depth': 6, 'n_estimators': 100, 'scale_pos_weight': 3}\n",
      "0.768787 (0.006340) with: {'learning_rate': 0.1, 'max_depth': 6, 'n_estimators': 100, 'scale_pos_weight': 4}\n",
      "0.766830 (0.005204) with: {'learning_rate': 0.1, 'max_depth': 6, 'n_estimators': 100, 'scale_pos_weight': 5}\n",
      "0.767891 (0.006039) with: {'learning_rate': 0.1, 'max_depth': 6, 'n_estimators': 200, 'scale_pos_weight': 1}\n",
      "0.764475 (0.007340) with: {'learning_rate': 0.1, 'max_depth': 6, 'n_estimators': 200, 'scale_pos_weight': 2}\n",
      "0.763333 (0.005913) with: {'learning_rate': 0.1, 'max_depth': 6, 'n_estimators': 200, 'scale_pos_weight': 3}\n",
      "0.761658 (0.006764) with: {'learning_rate': 0.1, 'max_depth': 6, 'n_estimators': 200, 'scale_pos_weight': 4}\n",
      "0.760952 (0.006410) with: {'learning_rate': 0.1, 'max_depth': 6, 'n_estimators': 200, 'scale_pos_weight': 5}\n",
      "0.772925 (0.005232) with: {'learning_rate': 0.1, 'max_depth': 7, 'n_estimators': 50, 'scale_pos_weight': 1}\n",
      "0.769746 (0.004704) with: {'learning_rate': 0.1, 'max_depth': 7, 'n_estimators': 50, 'scale_pos_weight': 2}\n",
      "0.769663 (0.005340) with: {'learning_rate': 0.1, 'max_depth': 7, 'n_estimators': 50, 'scale_pos_weight': 3}\n",
      "0.767092 (0.005691) with: {'learning_rate': 0.1, 'max_depth': 7, 'n_estimators': 50, 'scale_pos_weight': 4}\n",
      "0.765216 (0.005101) with: {'learning_rate': 0.1, 'max_depth': 7, 'n_estimators': 50, 'scale_pos_weight': 5}\n",
      "0.769723 (0.004922) with: {'learning_rate': 0.1, 'max_depth': 7, 'n_estimators': 100, 'scale_pos_weight': 1}\n",
      "0.766006 (0.006016) with: {'learning_rate': 0.1, 'max_depth': 7, 'n_estimators': 100, 'scale_pos_weight': 2}\n",
      "0.766239 (0.004804) with: {'learning_rate': 0.1, 'max_depth': 7, 'n_estimators': 100, 'scale_pos_weight': 3}\n",
      "0.762601 (0.004188) with: {'learning_rate': 0.1, 'max_depth': 7, 'n_estimators': 100, 'scale_pos_weight': 4}\n",
      "0.761787 (0.003959) with: {'learning_rate': 0.1, 'max_depth': 7, 'n_estimators': 100, 'scale_pos_weight': 5}\n",
      "0.763569 (0.006211) with: {'learning_rate': 0.1, 'max_depth': 7, 'n_estimators': 200, 'scale_pos_weight': 1}\n",
      "0.759417 (0.005815) with: {'learning_rate': 0.1, 'max_depth': 7, 'n_estimators': 200, 'scale_pos_weight': 2}\n",
      "0.759492 (0.005839) with: {'learning_rate': 0.1, 'max_depth': 7, 'n_estimators': 200, 'scale_pos_weight': 3}\n",
      "0.755985 (0.005830) with: {'learning_rate': 0.1, 'max_depth': 7, 'n_estimators': 200, 'scale_pos_weight': 4}\n",
      "0.755378 (0.005363) with: {'learning_rate': 0.1, 'max_depth': 7, 'n_estimators': 200, 'scale_pos_weight': 5}\n",
      "0.771192 (0.005994) with: {'learning_rate': 0.1, 'max_depth': 8, 'n_estimators': 50, 'scale_pos_weight': 1}\n",
      "0.767761 (0.004931) with: {'learning_rate': 0.1, 'max_depth': 8, 'n_estimators': 50, 'scale_pos_weight': 2}\n",
      "0.764931 (0.006081) with: {'learning_rate': 0.1, 'max_depth': 8, 'n_estimators': 50, 'scale_pos_weight': 3}\n",
      "0.761579 (0.006649) with: {'learning_rate': 0.1, 'max_depth': 8, 'n_estimators': 50, 'scale_pos_weight': 4}\n",
      "0.759602 (0.006270) with: {'learning_rate': 0.1, 'max_depth': 8, 'n_estimators': 50, 'scale_pos_weight': 5}\n",
      "0.767336 (0.005693) with: {'learning_rate': 0.1, 'max_depth': 8, 'n_estimators': 100, 'scale_pos_weight': 1}\n",
      "0.763726 (0.005318) with: {'learning_rate': 0.1, 'max_depth': 8, 'n_estimators': 100, 'scale_pos_weight': 2}\n",
      "0.760850 (0.006244) with: {'learning_rate': 0.1, 'max_depth': 8, 'n_estimators': 100, 'scale_pos_weight': 3}\n",
      "0.758315 (0.006214) with: {'learning_rate': 0.1, 'max_depth': 8, 'n_estimators': 100, 'scale_pos_weight': 4}\n",
      "0.754352 (0.005389) with: {'learning_rate': 0.1, 'max_depth': 8, 'n_estimators': 100, 'scale_pos_weight': 5}\n",
      "0.760435 (0.006238) with: {'learning_rate': 0.1, 'max_depth': 8, 'n_estimators': 200, 'scale_pos_weight': 1}\n",
      "0.755845 (0.005036) with: {'learning_rate': 0.1, 'max_depth': 8, 'n_estimators': 200, 'scale_pos_weight': 2}\n",
      "0.754995 (0.005654) with: {'learning_rate': 0.1, 'max_depth': 8, 'n_estimators': 200, 'scale_pos_weight': 3}\n",
      "0.752419 (0.006215) with: {'learning_rate': 0.1, 'max_depth': 8, 'n_estimators': 200, 'scale_pos_weight': 4}\n",
      "0.750025 (0.006217) with: {'learning_rate': 0.1, 'max_depth': 8, 'n_estimators': 200, 'scale_pos_weight': 5}\n",
      "0.768430 (0.006586) with: {'learning_rate': 0.1, 'max_depth': 9, 'n_estimators': 50, 'scale_pos_weight': 1}\n",
      "0.764089 (0.003107) with: {'learning_rate': 0.1, 'max_depth': 9, 'n_estimators': 50, 'scale_pos_weight': 2}\n",
      "0.762574 (0.004618) with: {'learning_rate': 0.1, 'max_depth': 9, 'n_estimators': 50, 'scale_pos_weight': 3}\n",
      "0.758735 (0.009392) with: {'learning_rate': 0.1, 'max_depth': 9, 'n_estimators': 50, 'scale_pos_weight': 4}\n",
      "0.756019 (0.005863) with: {'learning_rate': 0.1, 'max_depth': 9, 'n_estimators': 50, 'scale_pos_weight': 5}\n",
      "0.764704 (0.006811) with: {'learning_rate': 0.1, 'max_depth': 9, 'n_estimators': 100, 'scale_pos_weight': 1}\n",
      "0.759801 (0.003896) with: {'learning_rate': 0.1, 'max_depth': 9, 'n_estimators': 100, 'scale_pos_weight': 2}\n",
      "0.758704 (0.003988) with: {'learning_rate': 0.1, 'max_depth': 9, 'n_estimators': 100, 'scale_pos_weight': 3}\n",
      "0.754938 (0.007266) with: {'learning_rate': 0.1, 'max_depth': 9, 'n_estimators': 100, 'scale_pos_weight': 4}\n",
      "0.753805 (0.005999) with: {'learning_rate': 0.1, 'max_depth': 9, 'n_estimators': 100, 'scale_pos_weight': 5}\n",
      "0.757825 (0.005935) with: {'learning_rate': 0.1, 'max_depth': 9, 'n_estimators': 200, 'scale_pos_weight': 1}\n",
      "0.754674 (0.005437) with: {'learning_rate': 0.1, 'max_depth': 9, 'n_estimators': 200, 'scale_pos_weight': 2}\n",
      "0.752947 (0.005162) with: {'learning_rate': 0.1, 'max_depth': 9, 'n_estimators': 200, 'scale_pos_weight': 3}\n",
      "0.749593 (0.007294) with: {'learning_rate': 0.1, 'max_depth': 9, 'n_estimators': 200, 'scale_pos_weight': 4}\n",
      "0.749080 (0.006491) with: {'learning_rate': 0.1, 'max_depth': 9, 'n_estimators': 200, 'scale_pos_weight': 5}\n",
      "0.779124 (0.005359) with: {'learning_rate': 0.2, 'max_depth': 3, 'n_estimators': 50, 'scale_pos_weight': 1}\n",
      "0.778498 (0.005059) with: {'learning_rate': 0.2, 'max_depth': 3, 'n_estimators': 50, 'scale_pos_weight': 2}\n",
      "0.778613 (0.006486) with: {'learning_rate': 0.2, 'max_depth': 3, 'n_estimators': 50, 'scale_pos_weight': 3}\n",
      "0.778997 (0.005076) with: {'learning_rate': 0.2, 'max_depth': 3, 'n_estimators': 50, 'scale_pos_weight': 4}\n",
      "0.778649 (0.006716) with: {'learning_rate': 0.2, 'max_depth': 3, 'n_estimators': 50, 'scale_pos_weight': 5}\n",
      "0.777317 (0.004995) with: {'learning_rate': 0.2, 'max_depth': 3, 'n_estimators': 100, 'scale_pos_weight': 1}\n",
      "0.777061 (0.004688) with: {'learning_rate': 0.2, 'max_depth': 3, 'n_estimators': 100, 'scale_pos_weight': 2}\n",
      "0.777408 (0.006705) with: {'learning_rate': 0.2, 'max_depth': 3, 'n_estimators': 100, 'scale_pos_weight': 3}\n",
      "0.777357 (0.005282) with: {'learning_rate': 0.2, 'max_depth': 3, 'n_estimators': 100, 'scale_pos_weight': 4}\n",
      "0.775328 (0.006370) with: {'learning_rate': 0.2, 'max_depth': 3, 'n_estimators': 100, 'scale_pos_weight': 5}\n",
      "0.771603 (0.006266) with: {'learning_rate': 0.2, 'max_depth': 3, 'n_estimators': 200, 'scale_pos_weight': 1}\n",
      "0.773630 (0.006202) with: {'learning_rate': 0.2, 'max_depth': 3, 'n_estimators': 200, 'scale_pos_weight': 2}\n",
      "0.771502 (0.006903) with: {'learning_rate': 0.2, 'max_depth': 3, 'n_estimators': 200, 'scale_pos_weight': 3}\n",
      "0.770432 (0.005576) with: {'learning_rate': 0.2, 'max_depth': 3, 'n_estimators': 200, 'scale_pos_weight': 4}\n",
      "0.769828 (0.005994) with: {'learning_rate': 0.2, 'max_depth': 3, 'n_estimators': 200, 'scale_pos_weight': 5}\n",
      "0.776077 (0.005073) with: {'learning_rate': 0.2, 'max_depth': 4, 'n_estimators': 50, 'scale_pos_weight': 1}\n",
      "0.776987 (0.007805) with: {'learning_rate': 0.2, 'max_depth': 4, 'n_estimators': 50, 'scale_pos_weight': 2}\n",
      "0.776897 (0.005395) with: {'learning_rate': 0.2, 'max_depth': 4, 'n_estimators': 50, 'scale_pos_weight': 3}\n",
      "0.776784 (0.005270) with: {'learning_rate': 0.2, 'max_depth': 4, 'n_estimators': 50, 'scale_pos_weight': 4}\n",
      "0.775465 (0.005103) with: {'learning_rate': 0.2, 'max_depth': 4, 'n_estimators': 50, 'scale_pos_weight': 5}\n",
      "0.771514 (0.004911) with: {'learning_rate': 0.2, 'max_depth': 4, 'n_estimators': 100, 'scale_pos_weight': 1}\n",
      "0.773755 (0.008680) with: {'learning_rate': 0.2, 'max_depth': 4, 'n_estimators': 100, 'scale_pos_weight': 2}\n",
      "0.773217 (0.005978) with: {'learning_rate': 0.2, 'max_depth': 4, 'n_estimators': 100, 'scale_pos_weight': 3}\n",
      "0.772245 (0.004783) with: {'learning_rate': 0.2, 'max_depth': 4, 'n_estimators': 100, 'scale_pos_weight': 4}\n",
      "0.770336 (0.004552) with: {'learning_rate': 0.2, 'max_depth': 4, 'n_estimators': 100, 'scale_pos_weight': 5}\n",
      "0.765279 (0.007122) with: {'learning_rate': 0.2, 'max_depth': 4, 'n_estimators': 200, 'scale_pos_weight': 1}\n",
      "0.764450 (0.010323) with: {'learning_rate': 0.2, 'max_depth': 4, 'n_estimators': 200, 'scale_pos_weight': 2}\n",
      "0.765282 (0.007517) with: {'learning_rate': 0.2, 'max_depth': 4, 'n_estimators': 200, 'scale_pos_weight': 3}\n",
      "0.763638 (0.005904) with: {'learning_rate': 0.2, 'max_depth': 4, 'n_estimators': 200, 'scale_pos_weight': 4}\n",
      "0.761238 (0.006067) with: {'learning_rate': 0.2, 'max_depth': 4, 'n_estimators': 200, 'scale_pos_weight': 5}\n",
      "0.773106 (0.005537) with: {'learning_rate': 0.2, 'max_depth': 5, 'n_estimators': 50, 'scale_pos_weight': 1}\n",
      "0.773619 (0.005562) with: {'learning_rate': 0.2, 'max_depth': 5, 'n_estimators': 50, 'scale_pos_weight': 2}\n",
      "0.771190 (0.005763) with: {'learning_rate': 0.2, 'max_depth': 5, 'n_estimators': 50, 'scale_pos_weight': 3}\n",
      "0.771422 (0.007068) with: {'learning_rate': 0.2, 'max_depth': 5, 'n_estimators': 50, 'scale_pos_weight': 4}\n",
      "0.771668 (0.004611) with: {'learning_rate': 0.2, 'max_depth': 5, 'n_estimators': 50, 'scale_pos_weight': 5}\n",
      "0.768055 (0.005975) with: {'learning_rate': 0.2, 'max_depth': 5, 'n_estimators': 100, 'scale_pos_weight': 1}\n",
      "0.766299 (0.006654) with: {'learning_rate': 0.2, 'max_depth': 5, 'n_estimators': 100, 'scale_pos_weight': 2}\n",
      "0.765747 (0.006392) with: {'learning_rate': 0.2, 'max_depth': 5, 'n_estimators': 100, 'scale_pos_weight': 3}\n",
      "0.765991 (0.007528) with: {'learning_rate': 0.2, 'max_depth': 5, 'n_estimators': 100, 'scale_pos_weight': 4}\n",
      "0.763837 (0.006422) with: {'learning_rate': 0.2, 'max_depth': 5, 'n_estimators': 100, 'scale_pos_weight': 5}\n",
      "0.760266 (0.007742) with: {'learning_rate': 0.2, 'max_depth': 5, 'n_estimators': 200, 'scale_pos_weight': 1}\n",
      "0.757026 (0.007327) with: {'learning_rate': 0.2, 'max_depth': 5, 'n_estimators': 200, 'scale_pos_weight': 2}\n",
      "0.755480 (0.008681) with: {'learning_rate': 0.2, 'max_depth': 5, 'n_estimators': 200, 'scale_pos_weight': 3}\n",
      "0.755951 (0.006340) with: {'learning_rate': 0.2, 'max_depth': 5, 'n_estimators': 200, 'scale_pos_weight': 4}\n",
      "0.754747 (0.007252) with: {'learning_rate': 0.2, 'max_depth': 5, 'n_estimators': 200, 'scale_pos_weight': 5}\n",
      "0.768572 (0.003575) with: {'learning_rate': 0.2, 'max_depth': 6, 'n_estimators': 50, 'scale_pos_weight': 1}\n",
      "0.768971 (0.006690) with: {'learning_rate': 0.2, 'max_depth': 6, 'n_estimators': 50, 'scale_pos_weight': 2}\n",
      "0.765392 (0.007090) with: {'learning_rate': 0.2, 'max_depth': 6, 'n_estimators': 50, 'scale_pos_weight': 3}\n",
      "0.766838 (0.005312) with: {'learning_rate': 0.2, 'max_depth': 6, 'n_estimators': 50, 'scale_pos_weight': 4}\n",
      "0.765395 (0.005036) with: {'learning_rate': 0.2, 'max_depth': 6, 'n_estimators': 50, 'scale_pos_weight': 5}\n",
      "0.762371 (0.003973) with: {'learning_rate': 0.2, 'max_depth': 6, 'n_estimators': 100, 'scale_pos_weight': 1}\n",
      "0.762031 (0.006731) with: {'learning_rate': 0.2, 'max_depth': 6, 'n_estimators': 100, 'scale_pos_weight': 2}\n",
      "0.758504 (0.007911) with: {'learning_rate': 0.2, 'max_depth': 6, 'n_estimators': 100, 'scale_pos_weight': 3}\n",
      "0.758873 (0.004014) with: {'learning_rate': 0.2, 'max_depth': 6, 'n_estimators': 100, 'scale_pos_weight': 4}\n",
      "0.756928 (0.004196) with: {'learning_rate': 0.2, 'max_depth': 6, 'n_estimators': 100, 'scale_pos_weight': 5}\n",
      "0.753917 (0.004329) with: {'learning_rate': 0.2, 'max_depth': 6, 'n_estimators': 200, 'scale_pos_weight': 1}\n",
      "0.754189 (0.007700) with: {'learning_rate': 0.2, 'max_depth': 6, 'n_estimators': 200, 'scale_pos_weight': 2}\n",
      "0.748421 (0.007390) with: {'learning_rate': 0.2, 'max_depth': 6, 'n_estimators': 200, 'scale_pos_weight': 3}\n",
      "0.750695 (0.005201) with: {'learning_rate': 0.2, 'max_depth': 6, 'n_estimators': 200, 'scale_pos_weight': 4}\n",
      "0.748410 (0.005164) with: {'learning_rate': 0.2, 'max_depth': 6, 'n_estimators': 200, 'scale_pos_weight': 5}\n",
      "0.765124 (0.007723) with: {'learning_rate': 0.2, 'max_depth': 7, 'n_estimators': 50, 'scale_pos_weight': 1}\n",
      "0.764503 (0.004015) with: {'learning_rate': 0.2, 'max_depth': 7, 'n_estimators': 50, 'scale_pos_weight': 2}\n",
      "0.760511 (0.006065) with: {'learning_rate': 0.2, 'max_depth': 7, 'n_estimators': 50, 'scale_pos_weight': 3}\n",
      "0.758067 (0.006548) with: {'learning_rate': 0.2, 'max_depth': 7, 'n_estimators': 50, 'scale_pos_weight': 4}\n",
      "0.756863 (0.005161) with: {'learning_rate': 0.2, 'max_depth': 7, 'n_estimators': 50, 'scale_pos_weight': 5}\n",
      "0.757810 (0.008290) with: {'learning_rate': 0.2, 'max_depth': 7, 'n_estimators': 100, 'scale_pos_weight': 1}\n",
      "0.758800 (0.004675) with: {'learning_rate': 0.2, 'max_depth': 7, 'n_estimators': 100, 'scale_pos_weight': 2}\n",
      "0.753305 (0.006554) with: {'learning_rate': 0.2, 'max_depth': 7, 'n_estimators': 100, 'scale_pos_weight': 3}\n",
      "0.752560 (0.005339) with: {'learning_rate': 0.2, 'max_depth': 7, 'n_estimators': 100, 'scale_pos_weight': 4}\n",
      "0.749981 (0.003780) with: {'learning_rate': 0.2, 'max_depth': 7, 'n_estimators': 100, 'scale_pos_weight': 5}\n",
      "0.750046 (0.006711) with: {'learning_rate': 0.2, 'max_depth': 7, 'n_estimators': 200, 'scale_pos_weight': 1}\n",
      "0.750939 (0.004695) with: {'learning_rate': 0.2, 'max_depth': 7, 'n_estimators': 200, 'scale_pos_weight': 2}\n",
      "0.746289 (0.005802) with: {'learning_rate': 0.2, 'max_depth': 7, 'n_estimators': 200, 'scale_pos_weight': 3}\n",
      "0.744913 (0.006131) with: {'learning_rate': 0.2, 'max_depth': 7, 'n_estimators': 200, 'scale_pos_weight': 4}\n",
      "0.742178 (0.005839) with: {'learning_rate': 0.2, 'max_depth': 7, 'n_estimators': 200, 'scale_pos_weight': 5}\n",
      "0.763657 (0.008112) with: {'learning_rate': 0.2, 'max_depth': 8, 'n_estimators': 50, 'scale_pos_weight': 1}\n",
      "0.760224 (0.005912) with: {'learning_rate': 0.2, 'max_depth': 8, 'n_estimators': 50, 'scale_pos_weight': 2}\n",
      "0.756464 (0.005998) with: {'learning_rate': 0.2, 'max_depth': 8, 'n_estimators': 50, 'scale_pos_weight': 3}\n",
      "0.752094 (0.004539) with: {'learning_rate': 0.2, 'max_depth': 8, 'n_estimators': 50, 'scale_pos_weight': 4}\n",
      "0.750127 (0.005284) with: {'learning_rate': 0.2, 'max_depth': 8, 'n_estimators': 50, 'scale_pos_weight': 5}\n",
      "0.758307 (0.008164) with: {'learning_rate': 0.2, 'max_depth': 8, 'n_estimators': 100, 'scale_pos_weight': 1}\n",
      "0.753567 (0.004456) with: {'learning_rate': 0.2, 'max_depth': 8, 'n_estimators': 100, 'scale_pos_weight': 2}\n",
      "0.750794 (0.005946) with: {'learning_rate': 0.2, 'max_depth': 8, 'n_estimators': 100, 'scale_pos_weight': 3}\n",
      "0.747460 (0.005661) with: {'learning_rate': 0.2, 'max_depth': 8, 'n_estimators': 100, 'scale_pos_weight': 4}\n",
      "0.744481 (0.006476) with: {'learning_rate': 0.2, 'max_depth': 8, 'n_estimators': 100, 'scale_pos_weight': 5}\n",
      "0.749706 (0.008282) with: {'learning_rate': 0.2, 'max_depth': 8, 'n_estimators': 200, 'scale_pos_weight': 1}\n",
      "0.747177 (0.006709) with: {'learning_rate': 0.2, 'max_depth': 8, 'n_estimators': 200, 'scale_pos_weight': 2}\n",
      "0.744137 (0.006582) with: {'learning_rate': 0.2, 'max_depth': 8, 'n_estimators': 200, 'scale_pos_weight': 3}\n",
      "0.743011 (0.005724) with: {'learning_rate': 0.2, 'max_depth': 8, 'n_estimators': 200, 'scale_pos_weight': 4}\n",
      "0.740260 (0.007585) with: {'learning_rate': 0.2, 'max_depth': 8, 'n_estimators': 200, 'scale_pos_weight': 5}\n",
      "0.760664 (0.007289) with: {'learning_rate': 0.2, 'max_depth': 9, 'n_estimators': 50, 'scale_pos_weight': 1}\n",
      "0.755637 (0.002074) with: {'learning_rate': 0.2, 'max_depth': 9, 'n_estimators': 50, 'scale_pos_weight': 2}\n",
      "0.753152 (0.004522) with: {'learning_rate': 0.2, 'max_depth': 9, 'n_estimators': 50, 'scale_pos_weight': 3}\n",
      "0.751194 (0.005929) with: {'learning_rate': 0.2, 'max_depth': 9, 'n_estimators': 50, 'scale_pos_weight': 4}\n",
      "0.743328 (0.005173) with: {'learning_rate': 0.2, 'max_depth': 9, 'n_estimators': 50, 'scale_pos_weight': 5}\n",
      "0.753934 (0.008251) with: {'learning_rate': 0.2, 'max_depth': 9, 'n_estimators': 100, 'scale_pos_weight': 1}\n",
      "0.748905 (0.004238) with: {'learning_rate': 0.2, 'max_depth': 9, 'n_estimators': 100, 'scale_pos_weight': 2}\n",
      "0.747445 (0.004997) with: {'learning_rate': 0.2, 'max_depth': 9, 'n_estimators': 100, 'scale_pos_weight': 3}\n",
      "0.746681 (0.008269) with: {'learning_rate': 0.2, 'max_depth': 9, 'n_estimators': 100, 'scale_pos_weight': 4}\n",
      "0.739717 (0.007228) with: {'learning_rate': 0.2, 'max_depth': 9, 'n_estimators': 100, 'scale_pos_weight': 5}\n",
      "0.748657 (0.008235) with: {'learning_rate': 0.2, 'max_depth': 9, 'n_estimators': 200, 'scale_pos_weight': 1}\n",
      "0.745185 (0.005281) with: {'learning_rate': 0.2, 'max_depth': 9, 'n_estimators': 200, 'scale_pos_weight': 2}\n",
      "0.743330 (0.007530) with: {'learning_rate': 0.2, 'max_depth': 9, 'n_estimators': 200, 'scale_pos_weight': 3}\n",
      "0.741045 (0.007400) with: {'learning_rate': 0.2, 'max_depth': 9, 'n_estimators': 200, 'scale_pos_weight': 4}\n",
      "0.736967 (0.009542) with: {'learning_rate': 0.2, 'max_depth': 9, 'n_estimators': 200, 'scale_pos_weight': 5}\n"
     ]
    }
   ],
   "source": [
    "# report the best configuration\n",
    "print(\"Highest %s (metric): %f using %s \\n\" % (grid.refit, grid_result.best_score_, grid_result.best_params_))\n",
    "# report all configurations\n",
    "means = grid_result.cv_results_['mean_test_' + grid.refit]\n",
    "stds = grid_result.cv_results_['std_test_' + grid.refit]\n",
    "params = grid_result.cv_results_['params']\n",
    "for mean, stdev, param in zip(means, stds, params):\n",
    "    print(\"%f (%f) with: %r\" % (mean, stdev, param))"
   ]
  },
  {
   "cell_type": "markdown",
   "id": "3b75222d",
   "metadata": {},
   "source": [
    " One down aspect of the grid search above is that it did not use early stopping as we wanted to keep the test set, unseen! Now I use the parameters selected, tweak them a bit if needed in order to find the best ones."
   ]
  },
  {
   "cell_type": "code",
   "execution_count": 165,
   "id": "e6599ad3",
   "metadata": {},
   "outputs": [
    {
     "data": {
      "text/plain": [
       "XGBClassifier(base_score=0.5, booster='gbtree', colsample_bylevel=1,\n",
       "              colsample_bynode=1, colsample_bytree=0.7999999999999999,\n",
       "              enable_categorical=False, gamma=0, gpu_id=-1,\n",
       "              importance_type=None, interaction_constraints='',\n",
       "              learning_rate=0.1, max_delta_step=0, max_depth=6,\n",
       "              min_child_weight=1, missing=nan, monotone_constraints='()',\n",
       "              n_estimators=50, n_jobs=8, num_parallel_tree=1, predictor='auto',\n",
       "              random_state=0, reg_alpha=0, reg_lambda=1, scale_pos_weight=4,\n",
       "              subsample=0.8, tree_method='exact', validate_parameters=1,\n",
       "              verbosity=None)"
      ]
     },
     "execution_count": 165,
     "metadata": {},
     "output_type": "execute_result"
    }
   ],
   "source": [
    "\n",
    "eval_set = [(x_train, y_train), (x_test, y_test)]\n",
    "\n",
    "params = grid_result.best_params_\n",
    "###tried the following changes but results were nearly the identical.\n",
    "params[\"scale_pos_weight\"] = 4 #change\n",
    "params[\"max_depth\"] = 6 #change\n",
    "bestGridModel = XGBClassifier(**params)\n",
    "\n",
    "bestGridModel.fit(x_train, y_train, eval_metric=\"auc\", eval_set=eval_set, early_stopping_rounds=10, verbose=False)"
   ]
  },
  {
   "cell_type": "code",
   "execution_count": 154,
   "id": "6e026faa",
   "metadata": {
    "scrolled": true
   },
   "outputs": [
    {
     "data": {
      "image/png": "[encoded data removed]",
      "text/plain": [
       "<Figure size 432x288 with 1 Axes>"
      ]
     },
     "metadata": {},
     "output_type": "display_data"
    }
   ],
   "source": [
    "y_pred = bestGridModel.predict_proba(x_test)[:,1]\n",
    "sns.histplot(y_pred)\n",
    "plt.title(\"default class predicted proba distribution\")\n",
    "plt.show()\n",
    "#probabilities are less skewed from the default model but still AUC has not improved much (0.01)"
   ]
  },
  {
   "cell_type": "code",
   "execution_count": 96,
   "id": "a1d70f4c",
   "metadata": {
    "scrolled": false
   },
   "outputs": [
    {
     "data": {
      "image/png": "[encoded data removed]",
      "text/plain": [
       "<Figure size 432x288 with 1 Axes>"
      ]
     },
     "metadata": {},
     "output_type": "display_data"
    }
   ],
   "source": [
    "fpr, tpr, thresholds = metrics.roc_curve(y_test, y_pred)\n",
    "roc_auc = metrics.auc(fpr, tpr)\n",
    "display = metrics.RocCurveDisplay(fpr=fpr, tpr=tpr, roc_auc=roc_auc,\n",
    "                                  estimator_name='XGBOOST estimator')\n",
    "display.plot()\n",
    "plt.title(\"ROC on test set\")\n",
    "plt.show()"
   ]
  },
  {
   "cell_type": "code",
   "execution_count": null,
   "id": "9c80f1e0",
   "metadata": {},
   "outputs": [],
   "source": [
    "##find threshold"
   ]
  },
  {
   "cell_type": "markdown",
   "id": "88a878f6",
   "metadata": {},
   "source": [
    "## Trying other approaches to increase performance"
   ]
  },
  {
   "cell_type": "code",
   "execution_count": 120,
   "id": "82f9a709",
   "metadata": {
    "scrolled": true
   },
   "outputs": [
    {
     "data": {
      "text/plain": [
       "Index(['credit_limit', 'card_type', 'gender', 'education', 'age',\n",
       "       'pay_status_1', 'pay_status_2', 'pay_status_3', 'pay_status_4',\n",
       "       'pay_status_5', 'bill_amount_1', 'pay_amount_1', 'pay_amount_2',\n",
       "       'pay_amount_3', 'pay_amount_4', 'pay_amount_5'],\n",
       "      dtype='object')"
      ]
     },
     "execution_count": 120,
     "metadata": {},
     "output_type": "execute_result"
    }
   ],
   "source": [
    "X.head()\n",
    "\n",
    "X_new = X.drop([\"bill_amount_2\",\n",
    "                \"bill_amount_3\",\n",
    "                \"bill_amount_4\",\n",
    "                \"bill_amount_5\"], axis = 1)\n",
    "X_new.columns"
   ]
  },
  {
   "cell_type": "code",
   "execution_count": 121,
   "id": "ab8cc317",
   "metadata": {},
   "outputs": [],
   "source": [
    "# Create a %10 validation set for \n",
    "x_train, x_test, y_train, y_test = train_test_split(X_new, y, test_size=0.2, random_state=123)\n",
    "x_train, x_valid, y_train, y_valid =  train_test_split(x_train, y_train, test_size=0.125, random_state=123)"
   ]
  },
  {
   "cell_type": "code",
   "execution_count": 134,
   "id": "c8a4f369",
   "metadata": {},
   "outputs": [
    {
     "name": "stdout",
     "output_type": "stream",
     "text": [
      "[0]\tvalidation_0-auc:0.74141\n",
      "[1]\tvalidation_0-auc:0.77094\n",
      "[2]\tvalidation_0-auc:0.77114\n",
      "[3]\tvalidation_0-auc:0.77433\n",
      "[4]\tvalidation_0-auc:0.77184\n",
      "[5]\tvalidation_0-auc:0.77059\n",
      "[6]\tvalidation_0-auc:0.77033\n",
      "[7]\tvalidation_0-auc:0.77109\n",
      "[8]\tvalidation_0-auc:0.77153\n",
      "[9]\tvalidation_0-auc:0.77286\n",
      "[10]\tvalidation_0-auc:0.77295\n",
      "[11]\tvalidation_0-auc:0.77260\n",
      "[12]\tvalidation_0-auc:0.77348\n",
      "[13]\tvalidation_0-auc:0.77441\n",
      "[14]\tvalidation_0-auc:0.77510\n",
      "[15]\tvalidation_0-auc:0.77540\n",
      "[16]\tvalidation_0-auc:0.77558\n",
      "[17]\tvalidation_0-auc:0.77590\n",
      "[18]\tvalidation_0-auc:0.77593\n",
      "[19]\tvalidation_0-auc:0.77576\n",
      "[20]\tvalidation_0-auc:0.77540\n",
      "[21]\tvalidation_0-auc:0.77660\n",
      "[22]\tvalidation_0-auc:0.77678\n",
      "[23]\tvalidation_0-auc:0.77730\n",
      "[24]\tvalidation_0-auc:0.77776\n",
      "[25]\tvalidation_0-auc:0.77847\n",
      "[26]\tvalidation_0-auc:0.77863\n",
      "[27]\tvalidation_0-auc:0.77860\n",
      "[28]\tvalidation_0-auc:0.77872\n",
      "[29]\tvalidation_0-auc:0.77939\n",
      "[30]\tvalidation_0-auc:0.77975\n",
      "[31]\tvalidation_0-auc:0.77913\n",
      "[32]\tvalidation_0-auc:0.77871\n",
      "[33]\tvalidation_0-auc:0.77875\n",
      "[34]\tvalidation_0-auc:0.77869\n",
      "[35]\tvalidation_0-auc:0.77873\n",
      "[36]\tvalidation_0-auc:0.77876\n",
      "[37]\tvalidation_0-auc:0.77859\n",
      "[38]\tvalidation_0-auc:0.77780\n",
      "[39]\tvalidation_0-auc:0.77804\n",
      "[40]\tvalidation_0-auc:0.77793\n",
      "[41]\tvalidation_0-auc:0.77756\n",
      "[42]\tvalidation_0-auc:0.77761\n",
      "[43]\tvalidation_0-auc:0.77727\n",
      "[44]\tvalidation_0-auc:0.77720\n",
      "[45]\tvalidation_0-auc:0.77731\n",
      "[46]\tvalidation_0-auc:0.77725\n",
      "[47]\tvalidation_0-auc:0.77742\n",
      "[48]\tvalidation_0-auc:0.77783\n",
      "[49]\tvalidation_0-auc:0.77812\n"
     ]
    }
   ],
   "source": [
    "params = {\n",
    "        \"n_jobs\": 4,\n",
    "        \"learning_rate\": 0.05,\n",
    "        \"eval_metric\": \"auc\",\n",
    "        \"max_depth\" : 6,\n",
    "        \"n_estimators\":500,\n",
    "        \"objective\": 'binary:logistic',\n",
    "        \"seed\":27\n",
    "}\n",
    "\n",
    "param_grid = {\n",
    "    \"max_depth\" : range(3,10),\n",
    "    \"learning_rate\" : [0.01, 0.05, 0.1, 0.2],\n",
    "    \"scale_pos_weight\": [1, 2, 4, 8],\n",
    "    \"n_estimators\" : [50, 100, 200],\n",
    "    \"colsample_bytree\" : np.arange(0.5, 1.01, 0.1),\n",
    "    \"subsample\" : np.arange(0.8, 1.01, 0.05)\n",
    "             }\n",
    "\n",
    "myModel = XGBClassifier(**params)\n",
    "\n",
    "rand_grid = RandomizedSearchCV(\n",
    "    estimator=myModel,\n",
    "    param_distributions=param_grid,\n",
    "    n_jobs=-1,\n",
    "    cv=5,\n",
    "    scoring=[\"roc_auc\", \"f1\"],\n",
    "    refit = \"roc_auc\" #refits at the end on the selected best metric\n",
    ")\n",
    "\n",
    "eval_set = [(x_valid, y_valid)]\n",
    "\n",
    "grid_result = rand_grid.fit(x_train, y_train, eval_metric=\"auc\", eval_set=eval_set, early_stopping_rounds=20)\n"
   ]
  },
  {
   "cell_type": "code",
   "execution_count": 135,
   "id": "418712b8",
   "metadata": {
    "scrolled": true
   },
   "outputs": [
    {
     "name": "stdout",
     "output_type": "stream",
     "text": [
      "Highest roc_auc (metric): 0.777981 using {'subsample': 0.8, 'scale_pos_weight': 4, 'n_estimators': 50, 'max_depth': 4, 'learning_rate': 0.1, 'colsample_bytree': 0.7999999999999999} \n",
      "\n",
      "0.772388 (0.008598) with: {'subsample': 0.9000000000000001, 'scale_pos_weight': 4, 'n_estimators': 200, 'max_depth': 9, 'learning_rate': 0.01, 'colsample_bytree': 0.6}\n",
      "0.772279 (0.010068) with: {'subsample': 0.9500000000000002, 'scale_pos_weight': 1, 'n_estimators': 200, 'max_depth': 3, 'learning_rate': 0.01, 'colsample_bytree': 0.9999999999999999}\n",
      "0.776418 (0.010923) with: {'subsample': 0.8, 'scale_pos_weight': 4, 'n_estimators': 200, 'max_depth': 3, 'learning_rate': 0.1, 'colsample_bytree': 0.8999999999999999}\n",
      "0.772447 (0.009310) with: {'subsample': 0.8, 'scale_pos_weight': 1, 'n_estimators': 100, 'max_depth': 7, 'learning_rate': 0.2, 'colsample_bytree': 0.7999999999999999}\n",
      "0.767258 (0.007802) with: {'subsample': 1.0000000000000002, 'scale_pos_weight': 2, 'n_estimators': 200, 'max_depth': 9, 'learning_rate': 0.1, 'colsample_bytree': 0.5}\n",
      "0.765235 (0.008639) with: {'subsample': 0.8, 'scale_pos_weight': 8, 'n_estimators': 50, 'max_depth': 9, 'learning_rate': 0.01, 'colsample_bytree': 0.7999999999999999}\n",
      "0.773399 (0.009144) with: {'subsample': 0.8500000000000001, 'scale_pos_weight': 4, 'n_estimators': 200, 'max_depth': 7, 'learning_rate': 0.1, 'colsample_bytree': 0.6}\n",
      "0.771895 (0.010705) with: {'subsample': 1.0000000000000002, 'scale_pos_weight': 2, 'n_estimators': 200, 'max_depth': 9, 'learning_rate': 0.01, 'colsample_bytree': 0.7}\n",
      "0.777213 (0.008723) with: {'subsample': 0.8500000000000001, 'scale_pos_weight': 4, 'n_estimators': 50, 'max_depth': 3, 'learning_rate': 0.2, 'colsample_bytree': 0.9999999999999999}\n",
      "0.777981 (0.007674) with: {'subsample': 0.8, 'scale_pos_weight': 4, 'n_estimators': 50, 'max_depth': 4, 'learning_rate': 0.1, 'colsample_bytree': 0.7999999999999999}\n"
     ]
    }
   ],
   "source": [
    "# report the best configuration\n",
    "print(\"Highest %s (metric): %f using %s \\n\" % (grid.refit, grid_result.best_score_, grid_result.best_params_))\n",
    "# report all configurations\n",
    "means = grid_result.cv_results_['mean_test_' + grid.refit]\n",
    "stds = grid_result.cv_results_['std_test_' + grid.refit]\n",
    "params = grid_result.cv_results_['params']\n",
    "for mean, stdev, param in zip(means, stds, params):\n",
    "    print(\"%f (%f) with: %r\" % (mean, stdev, param))"
   ]
  },
  {
   "cell_type": "code",
   "execution_count": 141,
   "id": "180d1ace",
   "metadata": {},
   "outputs": [
    {
     "name": "stdout",
     "output_type": "stream",
     "text": [
      "[0]\tvalidation_0-auc:0.71732\n",
      "[1]\tvalidation_0-auc:0.75130\n",
      "[2]\tvalidation_0-auc:0.75267\n",
      "[3]\tvalidation_0-auc:0.75252\n",
      "[4]\tvalidation_0-auc:0.75438\n",
      "[5]\tvalidation_0-auc:0.75371\n",
      "[6]\tvalidation_0-auc:0.75573\n",
      "[7]\tvalidation_0-auc:0.75629\n",
      "[8]\tvalidation_0-auc:0.75767\n",
      "[9]\tvalidation_0-auc:0.75782\n",
      "[10]\tvalidation_0-auc:0.75821\n",
      "[11]\tvalidation_0-auc:0.75874\n",
      "[12]\tvalidation_0-auc:0.75853\n",
      "[13]\tvalidation_0-auc:0.75832\n",
      "[14]\tvalidation_0-auc:0.75915\n",
      "[15]\tvalidation_0-auc:0.75912\n",
      "[16]\tvalidation_0-auc:0.75997\n",
      "[17]\tvalidation_0-auc:0.76060\n",
      "[18]\tvalidation_0-auc:0.76173\n",
      "[19]\tvalidation_0-auc:0.76196\n",
      "[20]\tvalidation_0-auc:0.76184\n",
      "[21]\tvalidation_0-auc:0.76240\n",
      "[22]\tvalidation_0-auc:0.76208\n",
      "[23]\tvalidation_0-auc:0.76288\n",
      "[24]\tvalidation_0-auc:0.76310\n",
      "[25]\tvalidation_0-auc:0.76259\n",
      "[26]\tvalidation_0-auc:0.76270\n",
      "[27]\tvalidation_0-auc:0.76321\n",
      "[28]\tvalidation_0-auc:0.76303\n",
      "[29]\tvalidation_0-auc:0.76355\n",
      "[30]\tvalidation_0-auc:0.76377\n",
      "[31]\tvalidation_0-auc:0.76432\n",
      "[32]\tvalidation_0-auc:0.76476\n",
      "[33]\tvalidation_0-auc:0.76485\n",
      "[34]\tvalidation_0-auc:0.76496\n",
      "[35]\tvalidation_0-auc:0.76494\n",
      "[36]\tvalidation_0-auc:0.76509\n",
      "[37]\tvalidation_0-auc:0.76490\n",
      "[38]\tvalidation_0-auc:0.76499\n",
      "[39]\tvalidation_0-auc:0.76533\n",
      "[40]\tvalidation_0-auc:0.76565\n",
      "[41]\tvalidation_0-auc:0.76545\n",
      "[42]\tvalidation_0-auc:0.76592\n",
      "[43]\tvalidation_0-auc:0.76590\n",
      "[44]\tvalidation_0-auc:0.76610\n",
      "[45]\tvalidation_0-auc:0.76597\n",
      "[46]\tvalidation_0-auc:0.76618\n",
      "[47]\tvalidation_0-auc:0.76579\n",
      "[48]\tvalidation_0-auc:0.76584\n",
      "[49]\tvalidation_0-auc:0.76581\n"
     ]
    }
   ],
   "source": [
    "params = grid_result.best_params_\n",
    "\n",
    "bestGridModel = XGBClassifier(**params)\n",
    "eval_set = [(x_test, y_test)]\n",
    "bestGridModel.fit(x_train, y_train, eval_metric=\"auc\", eval_set=eval_set, early_stopping_rounds=10)\n",
    "\n",
    "y_pred = bestGridModel.predict_proba(x_test)[:,1]"
   ]
  },
  {
   "cell_type": "code",
   "execution_count": 142,
   "id": "6d1b56c1",
   "metadata": {
    "scrolled": true
   },
   "outputs": [
    {
     "data": {
      "text/plain": [
       "<AxesSubplot:ylabel='Count'>"
      ]
     },
     "execution_count": 142,
     "metadata": {},
     "output_type": "execute_result"
    },
    {
     "data": {
      "image/png": "[encoded data removed]",
      "text/plain": [
       "<Figure size 432x288 with 1 Axes>"
      ]
     },
     "metadata": {},
     "output_type": "display_data"
    }
   ],
   "source": [
    "sns.histplot(y_pred)"
   ]
  },
  {
   "cell_type": "code",
   "execution_count": 143,
   "id": "ca1ba3af",
   "metadata": {
    "scrolled": true
   },
   "outputs": [
    {
     "data": {
      "image/png": "[encoded data removed]",
      "text/plain": [
       "<Figure size 432x288 with 1 Axes>"
      ]
     },
     "metadata": {},
     "output_type": "display_data"
    }
   ],
   "source": [
    "fpr, tpr, thresholds = metrics.roc_curve(y_test, y_pred)\n",
    "roc_auc = metrics.auc(fpr, tpr)\n",
    "display = metrics.RocCurveDisplay(fpr=fpr, tpr=tpr, roc_auc=roc_auc,\n",
    "                                  estimator_name='XGBOOST estimator')\n",
    "display.plot()\n",
    "plt.title(\"ROC on test set\")\n",
    "plt.show()"
   ]
  },
  {
   "cell_type": "markdown",
   "id": "81b3bf0e",
   "metadata": {},
   "source": [
    "> The following modifications were not effective on the final AUC"
   ]
  },
  {
   "cell_type": "markdown",
   "id": "20855cb2",
   "metadata": {},
   "source": [
    "# Model Explainability"
   ]
  },
  {
   "cell_type": "code",
   "execution_count": 162,
   "id": "3c700c05",
   "metadata": {
    "scrolled": true
   },
   "outputs": [
    {
     "data": {
      "image/png": "[encoded data removed]",
      "text/plain": [
       "<Figure size 1440x720 with 1 Axes>"
      ]
     },
     "metadata": {},
     "output_type": "display_data"
    }
   ],
   "source": [
    "feature_important = bestGridModel.get_booster().get_score(importance_type='weight') # 'gain' or 'weight' give different results\n",
    "\n",
    "keys = list(feature_important.keys())\n",
    "values = list(feature_important.values())\n",
    "\n",
    "data = pd.DataFrame(data=values, index=keys, columns=[\"score\"]).sort_values(by = \"score\", ascending=False)\n",
    "data.plot(kind='barh', figsize = (20,10))\n",
    "plt.title(\"XGBoost Feature importance by weight\")\n",
    "plt.show()\n"
   ]
  },
  {
   "cell_type": "code",
   "execution_count": 160,
   "id": "84a3bd07",
   "metadata": {},
   "outputs": [
    {
     "data": {
      "image/png": "[encoded data removed]",
      "text/plain": [
       "<Figure size 1440x720 with 1 Axes>"
      ]
     },
     "metadata": {},
     "output_type": "display_data"
    }
   ],
   "source": [
    "feature_important = bestGridModel.get_booster().get_score(importance_type='gain') # 'gain' or 'weight' give different results\n",
    "\n",
    "keys = list(feature_important.keys())\n",
    "values = list(feature_important.values())\n",
    "\n",
    "data = pd.DataFrame(data=values, index=keys, columns=[\"score\"]).sort_values(by = \"score\", ascending=False)\n",
    "data.plot(kind='barh', figsize = (20,10)) ## plot top 40 features\n",
    "plt.title(\"XGBoost Feature importance by score\")\n",
    "plt.show()"
   ]
  },
  {
   "cell_type": "markdown",
   "id": "b9ace085",
   "metadata": {},
   "source": [
    "# Conclusion"
   ]
  },
  {
   "cell_type": "markdown",
   "id": "8d4c5a11",
   "metadata": {},
   "source": [
    "*\tNull values in card_type were replaced as a new category\n",
    "*\tEducation was grouped to contain less categories\n",
    "*\tThe data needed no more cleaning\n",
    "*\tThe target variable is around 80-20, therefore we have a imbalanced problem\n",
    "*\tCorrelation was measured between features, bill_amount_i variables were highly correlated. XGBOOST is not sensitive to multicollinearity, however, I trained and tested the model both with and without them.\n",
    "*\tPay_status_i was used as an ordinal variable as it contained information and went from -2 to 8. The higher meant, more delay in payment so it made sense.\n",
    "*\tThe first XGboost model was relatively simple:\n",
    "*\tI picked learning rate =0.05 as it is common practice\n",
    "*\tMax_depth was 6 (around default for xgboost itself)\n",
    "*\tN_estimators were picked as 500 and no early_stopping was implemented as I wanted to plot overfitting\n",
    "*\trow_sample and col_sample were picked at 0.8 (not very low, not very high)\n",
    "\n",
    "*\tThe evaluation metric at all model fitting processes was with AUC as it is not sensitive to the threshold picked (due to the imbalanced nature of our classification)\n",
    "*\tXgboost like every ML model needs to be tuned. I used a variety of random and grid searches with cross validation to tune it. [Note: the test data was not a part of this process, I either used 5-fold-CV or a separate validation set]\n",
    "*\tscale_pos_weight was tuned and used to assign more importance to the positive class (credit defaults)\n",
    "*\tThe tuned hyperparameters were used with the whole training data set + early stopping on the test set to create the final model\n",
    "*\tBill_amount and pay_status and credit limit were the most important features in the ensemble method"
   ]
  }
 ],
 "metadata": {
  "kernelspec": {
   "display_name": "Python 3 (ipykernel)",
   "language": "python",
   "name": "python3"
  },
  "language_info": {
   "codemirror_mode": {
    "name": "ipython",
    "version": 3
   },
   "file_extension": ".py",
   "mimetype": "text/x-python",
   "name": "python",
   "nbconvert_exporter": "python",
   "pygments_lexer": "ipython3",
   "version": "3.10.1"
  },
  "toc": {
   "base_numbering": 1,
   "nav_menu": {},
   "number_sections": true,
   "sideBar": true,
   "skip_h1_title": false,
   "title_cell": "Table of Contents",
   "title_sidebar": "Contents",
   "toc_cell": false,
   "toc_position": {},
   "toc_section_display": true,
   "toc_window_display": false
  }
 },
 "nbformat": 4,
 "nbformat_minor": 5
}
